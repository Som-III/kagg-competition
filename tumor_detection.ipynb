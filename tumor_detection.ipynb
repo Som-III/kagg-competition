{
 "cells": [
  {
   "cell_type": "raw",
   "id": "351b7193",
   "metadata": {
    "_cell_guid": "b1076dfc-b9ad-4769-8c92-a6c4dae69d19",
    "_uuid": "8f2839f25d086af736a60e9eeb907d3b93b6e0e5",
    "papermill": {
     "duration": 0.015702,
     "end_time": "2024-03-30T11:29:30.048263",
     "exception": false,
     "start_time": "2024-03-30T11:29:30.032561",
     "status": "completed"
    },
    "tags": []
   },
   "source": [
    "# This Python 3 environment comes with many helpful analytics libraries installed\n",
    "# It is defined by the kaggle/python Docker image: https://github.com/kaggle/docker-python\n",
    "# For example, here's several helpful packages to load\n",
    "\n",
    "import numpy as np # linear algebra\n",
    "import pandas as pd # data processing, CSV file I/O (e.g. pd.read_csv)\n",
    "\n",
    "# Input data files are available in the read-only \"../input/\" directory\n",
    "# For example, running this (by clicking run or pressing Shift+Enter) will list all files under the input directory\n",
    "\n",
    "import os\n",
    "for dirname, _, filenames in os.walk('/kaggle/input'):\n",
    "    for filename in filenames:\n",
    "        print(os.path.join(dirname, filename))\n",
    "\n",
    "# You can write up to 20GB to the current directory (/kaggle/working/) that gets preserved as output when you create a version using \"Save & Run All\" \n",
    "# You can also write temporary files to /kaggle/temp/, but they won't be saved outside of the current session"
   ]
  },
  {
   "cell_type": "code",
   "execution_count": 1,
   "id": "d393a627",
   "metadata": {
    "execution": {
     "iopub.execute_input": "2024-03-30T11:29:30.080461Z",
     "iopub.status.busy": "2024-03-30T11:29:30.079806Z",
     "iopub.status.idle": "2024-03-30T11:29:45.310604Z",
     "shell.execute_reply": "2024-03-30T11:29:45.309588Z"
    },
    "papermill": {
     "duration": 15.249759,
     "end_time": "2024-03-30T11:29:45.313136",
     "exception": false,
     "start_time": "2024-03-30T11:29:30.063377",
     "status": "completed"
    },
    "tags": []
   },
   "outputs": [
    {
     "name": "stderr",
     "output_type": "stream",
     "text": [
      "2024-03-30 11:29:34.222212: E external/local_xla/xla/stream_executor/cuda/cuda_dnn.cc:9261] Unable to register cuDNN factory: Attempting to register factory for plugin cuDNN when one has already been registered\n",
      "2024-03-30 11:29:34.222316: E external/local_xla/xla/stream_executor/cuda/cuda_fft.cc:607] Unable to register cuFFT factory: Attempting to register factory for plugin cuFFT when one has already been registered\n",
      "2024-03-30 11:29:34.343646: E external/local_xla/xla/stream_executor/cuda/cuda_blas.cc:1515] Unable to register cuBLAS factory: Attempting to register factory for plugin cuBLAS when one has already been registered\n"
     ]
    }
   ],
   "source": [
    "import os\n",
    "import cv2\n",
    "import random\n",
    "import time \n",
    "\n",
    "import numpy as np\n",
    "import pandas as pd\n",
    "import seaborn as sns\n",
    "import numpy as np\n",
    "import plotly.express as px\n",
    "import matplotlib.pyplot as plt\n",
    "\n",
    "\n",
    "import tensorflow as tf\n",
    "import tensorflow_hub as tfhub\n",
    "from tensorflow.keras import regularizers\n",
    "from tensorflow.keras import layers, Sequential,models\n",
    "from tensorflow.keras.utils import plot_model\n",
    "from tensorflow.keras.optimizers import Adam, Adamax\n",
    "from tensorflow.keras.preprocessing.image import ImageDataGenerator\n",
    "from tensorflow.keras.applications import *\n",
    "from tensorflow.keras.models import *\n",
    "from tensorflow.keras.callbacks import ReduceLROnPlateau\n",
    "\n",
    "\n",
    "from sklearn.model_selection import train_test_split,KFold\n",
    "from sklearn.metrics import classification_report, precision_recall_fscore_support\n",
    "from sklearn.metrics import accuracy_score, top_k_accuracy_score, f1_score, matthews_corrcoef\n",
    "from sklearn.metrics import confusion_matrix, ConfusionMatrixDisplay\n",
    "\n",
    "\n",
    "import warnings\n",
    "warnings.filterwarnings('ignore')"
   ]
  },
  {
   "cell_type": "code",
   "execution_count": 2,
   "id": "1ef054d4",
   "metadata": {
    "execution": {
     "iopub.execute_input": "2024-03-30T11:29:45.346849Z",
     "iopub.status.busy": "2024-03-30T11:29:45.345994Z",
     "iopub.status.idle": "2024-03-30T11:29:45.351282Z",
     "shell.execute_reply": "2024-03-30T11:29:45.350462Z"
    },
    "papermill": {
     "duration": 0.024262,
     "end_time": "2024-03-30T11:29:45.353238",
     "exception": false,
     "start_time": "2024-03-30T11:29:45.328976",
     "status": "completed"
    },
    "tags": []
   },
   "outputs": [],
   "source": [
    "%matplotlib inline"
   ]
  },
  {
   "cell_type": "code",
   "execution_count": 3,
   "id": "5ada1e4e",
   "metadata": {
    "execution": {
     "iopub.execute_input": "2024-03-30T11:29:45.384886Z",
     "iopub.status.busy": "2024-03-30T11:29:45.384317Z",
     "iopub.status.idle": "2024-03-30T11:29:45.388085Z",
     "shell.execute_reply": "2024-03-30T11:29:45.387227Z"
    },
    "papermill": {
     "duration": 0.021767,
     "end_time": "2024-03-30T11:29:45.390059",
     "exception": false,
     "start_time": "2024-03-30T11:29:45.368292",
     "status": "completed"
    },
    "tags": []
   },
   "outputs": [],
   "source": [
    "\n",
    "BATCH = 32"
   ]
  },
  {
   "cell_type": "code",
   "execution_count": 4,
   "id": "8a49473d",
   "metadata": {
    "execution": {
     "iopub.execute_input": "2024-03-30T11:29:45.421124Z",
     "iopub.status.busy": "2024-03-30T11:29:45.420879Z",
     "iopub.status.idle": "2024-03-30T11:29:45.434473Z",
     "shell.execute_reply": "2024-03-30T11:29:45.433636Z"
    },
    "papermill": {
     "duration": 0.031254,
     "end_time": "2024-03-30T11:29:45.436351",
     "exception": false,
     "start_time": "2024-03-30T11:29:45.405097",
     "status": "completed"
    },
    "tags": []
   },
   "outputs": [
    {
     "data": {
      "text/plain": [
       "44"
      ]
     },
     "execution_count": 4,
     "metadata": {},
     "output_type": "execute_result"
    }
   ],
   "source": [
    "len(os.listdir('/kaggle/input/brain-tumor-mri-images-44c/'))"
   ]
  },
  {
   "cell_type": "code",
   "execution_count": 5,
   "id": "e46801f9",
   "metadata": {
    "execution": {
     "iopub.execute_input": "2024-03-30T11:29:45.469549Z",
     "iopub.status.busy": "2024-03-30T11:29:45.468960Z",
     "iopub.status.idle": "2024-03-30T11:29:45.472558Z",
     "shell.execute_reply": "2024-03-30T11:29:45.471780Z"
    },
    "papermill": {
     "duration": 0.022776,
     "end_time": "2024-03-30T11:29:45.474449",
     "exception": false,
     "start_time": "2024-03-30T11:29:45.451673",
     "status": "completed"
    },
    "tags": []
   },
   "outputs": [],
   "source": [
    "data_path= \"/kaggle/input/brain-tumor-mri-images-44c\""
   ]
  },
  {
   "cell_type": "code",
   "execution_count": 6,
   "id": "c53646df",
   "metadata": {
    "execution": {
     "iopub.execute_input": "2024-03-30T11:29:45.506731Z",
     "iopub.status.busy": "2024-03-30T11:29:45.506213Z",
     "iopub.status.idle": "2024-03-30T11:29:45.513903Z",
     "shell.execute_reply": "2024-03-30T11:29:45.512978Z"
    },
    "papermill": {
     "duration": 0.026093,
     "end_time": "2024-03-30T11:29:45.516119",
     "exception": false,
     "start_time": "2024-03-30T11:29:45.490026",
     "status": "completed"
    },
    "tags": []
   },
   "outputs": [],
   "source": [
    "df = pd.DataFrame(columns=['path','label'])"
   ]
  },
  {
   "cell_type": "code",
   "execution_count": 7,
   "id": "0c9754c1",
   "metadata": {
    "execution": {
     "iopub.execute_input": "2024-03-30T11:29:45.549143Z",
     "iopub.status.busy": "2024-03-30T11:29:45.548861Z",
     "iopub.status.idle": "2024-03-30T11:29:45.552903Z",
     "shell.execute_reply": "2024-03-30T11:29:45.551923Z"
    },
    "papermill": {
     "duration": 0.022813,
     "end_time": "2024-03-30T11:29:45.554819",
     "exception": false,
     "start_time": "2024-03-30T11:29:45.532006",
     "status": "completed"
    },
    "tags": []
   },
   "outputs": [],
   "source": [
    "#df.to_pickle('actual_df.pkl')\n"
   ]
  },
  {
   "cell_type": "code",
   "execution_count": 8,
   "id": "292470b9",
   "metadata": {
    "execution": {
     "iopub.execute_input": "2024-03-30T11:29:45.588868Z",
     "iopub.status.busy": "2024-03-30T11:29:45.587943Z",
     "iopub.status.idle": "2024-03-30T11:29:45.592157Z",
     "shell.execute_reply": "2024-03-30T11:29:45.591428Z"
    },
    "papermill": {
     "duration": 0.023276,
     "end_time": "2024-03-30T11:29:45.594020",
     "exception": false,
     "start_time": "2024-03-30T11:29:45.570744",
     "status": "completed"
    },
    "tags": []
   },
   "outputs": [],
   "source": [
    "#df = create_df(df,folder,data_path)\n",
    "#df.head()"
   ]
  },
  {
   "cell_type": "code",
   "execution_count": 9,
   "id": "9c3d5d7a",
   "metadata": {
    "execution": {
     "iopub.execute_input": "2024-03-30T11:29:45.626268Z",
     "iopub.status.busy": "2024-03-30T11:29:45.625931Z",
     "iopub.status.idle": "2024-03-30T11:29:45.632926Z",
     "shell.execute_reply": "2024-03-30T11:29:45.632008Z"
    },
    "papermill": {
     "duration": 0.025882,
     "end_time": "2024-03-30T11:29:45.635137",
     "exception": false,
     "start_time": "2024-03-30T11:29:45.609255",
     "status": "completed"
    },
    "tags": []
   },
   "outputs": [],
   "source": [
    "folder = os.listdir(data_path)\n",
    "def create_df(df,folder,data_path):\n",
    "    for fold in folder:\n",
    "        class_path = os.path.join(data_path,fold)\n",
    "        class_folder = os.listdir(class_path)\n",
    "        for img in class_folder:\n",
    "            img_path = os.path.join(class_path,img)\n",
    "            df = df._append({'path':os.path.join(class_path,img) , 'label' : fold.split()[1]},ignore_index=True)\n",
    "    return df"
   ]
  },
  {
   "cell_type": "code",
   "execution_count": null,
   "id": "90fafbcd",
   "metadata": {
    "papermill": {
     "duration": 0.015384,
     "end_time": "2024-03-30T11:29:45.666063",
     "exception": false,
     "start_time": "2024-03-30T11:29:45.650679",
     "status": "completed"
    },
    "tags": []
   },
   "outputs": [],
   "source": []
  },
  {
   "cell_type": "code",
   "execution_count": 10,
   "id": "d8a33a59",
   "metadata": {
    "execution": {
     "iopub.execute_input": "2024-03-30T11:29:45.699120Z",
     "iopub.status.busy": "2024-03-30T11:29:45.698757Z",
     "iopub.status.idle": "2024-03-30T11:29:45.702942Z",
     "shell.execute_reply": "2024-03-30T11:29:45.702176Z"
    },
    "papermill": {
     "duration": 0.022887,
     "end_time": "2024-03-30T11:29:45.704766",
     "exception": false,
     "start_time": "2024-03-30T11:29:45.681879",
     "status": "completed"
    },
    "tags": []
   },
   "outputs": [],
   "source": [
    "#df.to_pickle('three_classed.pkl')\n"
   ]
  },
  {
   "cell_type": "code",
   "execution_count": 11,
   "id": "67bcb1bb",
   "metadata": {
    "execution": {
     "iopub.execute_input": "2024-03-30T11:29:45.737379Z",
     "iopub.status.busy": "2024-03-30T11:29:45.737052Z",
     "iopub.status.idle": "2024-03-30T11:29:45.768271Z",
     "shell.execute_reply": "2024-03-30T11:29:45.767184Z"
    },
    "papermill": {
     "duration": 0.049736,
     "end_time": "2024-03-30T11:29:45.770318",
     "exception": false,
     "start_time": "2024-03-30T11:29:45.720582",
     "status": "completed"
    },
    "tags": []
   },
   "outputs": [
    {
     "data": {
      "text/html": [
       "<div>\n",
       "<style scoped>\n",
       "    .dataframe tbody tr th:only-of-type {\n",
       "        vertical-align: middle;\n",
       "    }\n",
       "\n",
       "    .dataframe tbody tr th {\n",
       "        vertical-align: top;\n",
       "    }\n",
       "\n",
       "    .dataframe thead th {\n",
       "        text-align: right;\n",
       "    }\n",
       "</style>\n",
       "<table border=\"1\" class=\"dataframe\">\n",
       "  <thead>\n",
       "    <tr style=\"text-align: right;\">\n",
       "      <th></th>\n",
       "      <th>path</th>\n",
       "      <th>label</th>\n",
       "    </tr>\n",
       "  </thead>\n",
       "  <tbody>\n",
       "    <tr>\n",
       "      <th>0</th>\n",
       "      <td>/kaggle/input/brain-tumor-mri-images-44c/Papil...</td>\n",
       "      <td>T2</td>\n",
       "    </tr>\n",
       "    <tr>\n",
       "      <th>1</th>\n",
       "      <td>/kaggle/input/brain-tumor-mri-images-44c/Papil...</td>\n",
       "      <td>T2</td>\n",
       "    </tr>\n",
       "    <tr>\n",
       "      <th>2</th>\n",
       "      <td>/kaggle/input/brain-tumor-mri-images-44c/Papil...</td>\n",
       "      <td>T2</td>\n",
       "    </tr>\n",
       "    <tr>\n",
       "      <th>3</th>\n",
       "      <td>/kaggle/input/brain-tumor-mri-images-44c/Papil...</td>\n",
       "      <td>T2</td>\n",
       "    </tr>\n",
       "    <tr>\n",
       "      <th>4</th>\n",
       "      <td>/kaggle/input/brain-tumor-mri-images-44c/Papil...</td>\n",
       "      <td>T2</td>\n",
       "    </tr>\n",
       "  </tbody>\n",
       "</table>\n",
       "</div>"
      ],
      "text/plain": [
       "                                                path label\n",
       "0  /kaggle/input/brain-tumor-mri-images-44c/Papil...    T2\n",
       "1  /kaggle/input/brain-tumor-mri-images-44c/Papil...    T2\n",
       "2  /kaggle/input/brain-tumor-mri-images-44c/Papil...    T2\n",
       "3  /kaggle/input/brain-tumor-mri-images-44c/Papil...    T2\n",
       "4  /kaggle/input/brain-tumor-mri-images-44c/Papil...    T2"
      ]
     },
     "execution_count": 11,
     "metadata": {},
     "output_type": "execute_result"
    }
   ],
   "source": [
    "df = pd.read_pickle('/kaggle/input/tumor-df/initial_dataset.pkl')\n",
    "df.head()"
   ]
  },
  {
   "cell_type": "code",
   "execution_count": 12,
   "id": "dac01db4",
   "metadata": {
    "execution": {
     "iopub.execute_input": "2024-03-30T11:29:45.803971Z",
     "iopub.status.busy": "2024-03-30T11:29:45.803144Z",
     "iopub.status.idle": "2024-03-30T11:29:45.809338Z",
     "shell.execute_reply": "2024-03-30T11:29:45.808385Z"
    },
    "papermill": {
     "duration": 0.024968,
     "end_time": "2024-03-30T11:29:45.811411",
     "exception": false,
     "start_time": "2024-03-30T11:29:45.786443",
     "status": "completed"
    },
    "tags": []
   },
   "outputs": [
    {
     "data": {
      "text/plain": [
       "(4479, 2)"
      ]
     },
     "execution_count": 12,
     "metadata": {},
     "output_type": "execute_result"
    }
   ],
   "source": [
    "df.shape"
   ]
  },
  {
   "cell_type": "code",
   "execution_count": 13,
   "id": "588ea398",
   "metadata": {
    "execution": {
     "iopub.execute_input": "2024-03-30T11:29:45.844924Z",
     "iopub.status.busy": "2024-03-30T11:29:45.844259Z",
     "iopub.status.idle": "2024-03-30T11:29:45.858204Z",
     "shell.execute_reply": "2024-03-30T11:29:45.857166Z"
    },
    "papermill": {
     "duration": 0.033099,
     "end_time": "2024-03-30T11:29:45.860392",
     "exception": false,
     "start_time": "2024-03-30T11:29:45.827293",
     "status": "completed"
    },
    "tags": []
   },
   "outputs": [],
   "source": [
    "label_counts = df['label'].value_counts().sort_values(ascending=False)\n",
    "sorted_label = label_counts.index"
   ]
  },
  {
   "cell_type": "code",
   "execution_count": null,
   "id": "e1559f9f",
   "metadata": {
    "papermill": {
     "duration": 0.015637,
     "end_time": "2024-03-30T11:29:45.892093",
     "exception": false,
     "start_time": "2024-03-30T11:29:45.876456",
     "status": "completed"
    },
    "tags": []
   },
   "outputs": [],
   "source": []
  },
  {
   "cell_type": "code",
   "execution_count": 14,
   "id": "a9f617da",
   "metadata": {
    "execution": {
     "iopub.execute_input": "2024-03-30T11:29:45.926830Z",
     "iopub.status.busy": "2024-03-30T11:29:45.926450Z",
     "iopub.status.idle": "2024-03-30T11:29:46.103561Z",
     "shell.execute_reply": "2024-03-30T11:29:46.102674Z"
    },
    "papermill": {
     "duration": 0.197341,
     "end_time": "2024-03-30T11:29:46.105522",
     "exception": false,
     "start_time": "2024-03-30T11:29:45.908181",
     "status": "completed"
    },
    "tags": []
   },
   "outputs": [
    {
     "data": {
      "image/png": "[encoded data removed]",
      "text/plain": [
       "<Figure size 800x400 with 1 Axes>"
      ]
     },
     "metadata": {},
     "output_type": "display_data"
    }
   ],
   "source": [
    "plt.figure(figsize=(8,4))\n",
    "sns.barplot(x=label_counts.values, y=sorted_label)\n",
    "plt.show()"
   ]
  },
  {
   "cell_type": "code",
   "execution_count": 15,
   "id": "73265bdb",
   "metadata": {
    "execution": {
     "iopub.execute_input": "2024-03-30T11:29:46.139059Z",
     "iopub.status.busy": "2024-03-30T11:29:46.138723Z",
     "iopub.status.idle": "2024-03-30T11:29:46.143700Z",
     "shell.execute_reply": "2024-03-30T11:29:46.142780Z"
    },
    "papermill": {
     "duration": 0.023986,
     "end_time": "2024-03-30T11:29:46.145728",
     "exception": false,
     "start_time": "2024-03-30T11:29:46.121742",
     "status": "completed"
    },
    "tags": []
   },
   "outputs": [],
   "source": [
    "datagen = ImageDataGenerator(\n",
    "    rescale=1./255,\n",
    "    rotation_range=40,\n",
    "    width_shift_range=0.1,\n",
    "    height_shift_range=0.1,\n",
    "    shear_range=0.1,\n",
    "    zoom_range=0.1,\n",
    "    horizontal_flip=True,\n",
    "    vertical_flip=True,\n",
    "    fill_mode='nearest',\n",
    ")"
   ]
  },
  {
   "cell_type": "code",
   "execution_count": 16,
   "id": "e919b6ac",
   "metadata": {
    "execution": {
     "iopub.execute_input": "2024-03-30T11:29:46.179017Z",
     "iopub.status.busy": "2024-03-30T11:29:46.178713Z",
     "iopub.status.idle": "2024-03-30T11:29:46.191095Z",
     "shell.execute_reply": "2024-03-30T11:29:46.190177Z"
    },
    "papermill": {
     "duration": 0.031216,
     "end_time": "2024-03-30T11:29:46.192986",
     "exception": false,
     "start_time": "2024-03-30T11:29:46.161770",
     "status": "completed"
    },
    "tags": []
   },
   "outputs": [
    {
     "data": {
      "text/html": [
       "<div>\n",
       "<style scoped>\n",
       "    .dataframe tbody tr th:only-of-type {\n",
       "        vertical-align: middle;\n",
       "    }\n",
       "\n",
       "    .dataframe tbody tr th {\n",
       "        vertical-align: top;\n",
       "    }\n",
       "\n",
       "    .dataframe thead th {\n",
       "        text-align: right;\n",
       "    }\n",
       "</style>\n",
       "<table border=\"1\" class=\"dataframe\">\n",
       "  <thead>\n",
       "    <tr style=\"text-align: right;\">\n",
       "      <th></th>\n",
       "      <th>path</th>\n",
       "      <th>label</th>\n",
       "    </tr>\n",
       "  </thead>\n",
       "  <tbody>\n",
       "    <tr>\n",
       "      <th>0</th>\n",
       "      <td>/kaggle/input/brain-tumor-mri-images-44c/Astro...</td>\n",
       "      <td>T1</td>\n",
       "    </tr>\n",
       "    <tr>\n",
       "      <th>1</th>\n",
       "      <td>/kaggle/input/brain-tumor-mri-images-44c/Menin...</td>\n",
       "      <td>T1</td>\n",
       "    </tr>\n",
       "    <tr>\n",
       "      <th>2</th>\n",
       "      <td>/kaggle/input/brain-tumor-mri-images-44c/Schwa...</td>\n",
       "      <td>T1</td>\n",
       "    </tr>\n",
       "    <tr>\n",
       "      <th>3</th>\n",
       "      <td>/kaggle/input/brain-tumor-mri-images-44c/Neuro...</td>\n",
       "      <td>T2</td>\n",
       "    </tr>\n",
       "    <tr>\n",
       "      <th>4</th>\n",
       "      <td>/kaggle/input/brain-tumor-mri-images-44c/Menin...</td>\n",
       "      <td>T1C+</td>\n",
       "    </tr>\n",
       "  </tbody>\n",
       "</table>\n",
       "</div>"
      ],
      "text/plain": [
       "                                                path label\n",
       "0  /kaggle/input/brain-tumor-mri-images-44c/Astro...    T1\n",
       "1  /kaggle/input/brain-tumor-mri-images-44c/Menin...    T1\n",
       "2  /kaggle/input/brain-tumor-mri-images-44c/Schwa...    T1\n",
       "3  /kaggle/input/brain-tumor-mri-images-44c/Neuro...    T2\n",
       "4  /kaggle/input/brain-tumor-mri-images-44c/Menin...  T1C+"
      ]
     },
     "execution_count": 16,
     "metadata": {},
     "output_type": "execute_result"
    }
   ],
   "source": [
    "df_shuffle = df.sample(frac=1).reset_index(drop=True)\n",
    "df_shuffle.head()"
   ]
  },
  {
   "cell_type": "code",
   "execution_count": 17,
   "id": "b462c1f4",
   "metadata": {
    "execution": {
     "iopub.execute_input": "2024-03-30T11:29:46.226074Z",
     "iopub.status.busy": "2024-03-30T11:29:46.225810Z",
     "iopub.status.idle": "2024-03-30T11:29:46.243289Z",
     "shell.execute_reply": "2024-03-30T11:29:46.242593Z"
    },
    "papermill": {
     "duration": 0.036291,
     "end_time": "2024-03-30T11:29:46.245195",
     "exception": false,
     "start_time": "2024-03-30T11:29:46.208904",
     "status": "completed"
    },
    "tags": []
   },
   "outputs": [],
   "source": [
    "train_df, tv_df = train_test_split(df,test_size= 0.35,shuffle=True,random_state=101,stratify= df['label'])\n",
    "test_df, valid_df = train_test_split(tv_df,test_size= 0.5,shuffle=True,random_state=101,\n",
    "                                          stratify= tv_df['label'])"
   ]
  },
  {
   "cell_type": "code",
   "execution_count": 18,
   "id": "92ee6ad8",
   "metadata": {
    "execution": {
     "iopub.execute_input": "2024-03-30T11:29:46.279031Z",
     "iopub.status.busy": "2024-03-30T11:29:46.278763Z",
     "iopub.status.idle": "2024-03-30T11:29:46.288753Z",
     "shell.execute_reply": "2024-03-30T11:29:46.287845Z"
    },
    "papermill": {
     "duration": 0.028777,
     "end_time": "2024-03-30T11:29:46.290845",
     "exception": false,
     "start_time": "2024-03-30T11:29:46.262068",
     "status": "completed"
    },
    "tags": []
   },
   "outputs": [
    {
     "data": {
      "text/html": [
       "<div>\n",
       "<style scoped>\n",
       "    .dataframe tbody tr th:only-of-type {\n",
       "        vertical-align: middle;\n",
       "    }\n",
       "\n",
       "    .dataframe tbody tr th {\n",
       "        vertical-align: top;\n",
       "    }\n",
       "\n",
       "    .dataframe thead th {\n",
       "        text-align: right;\n",
       "    }\n",
       "</style>\n",
       "<table border=\"1\" class=\"dataframe\">\n",
       "  <thead>\n",
       "    <tr style=\"text-align: right;\">\n",
       "      <th></th>\n",
       "      <th>path</th>\n",
       "      <th>label</th>\n",
       "    </tr>\n",
       "  </thead>\n",
       "  <tbody>\n",
       "    <tr>\n",
       "      <th>1382</th>\n",
       "      <td>/kaggle/input/brain-tumor-mri-images-44c/Astro...</td>\n",
       "      <td>T2</td>\n",
       "    </tr>\n",
       "    <tr>\n",
       "      <th>76</th>\n",
       "      <td>/kaggle/input/brain-tumor-mri-images-44c/Tuber...</td>\n",
       "      <td>T1C+</td>\n",
       "    </tr>\n",
       "    <tr>\n",
       "      <th>2201</th>\n",
       "      <td>/kaggle/input/brain-tumor-mri-images-44c/Menin...</td>\n",
       "      <td>T1</td>\n",
       "    </tr>\n",
       "    <tr>\n",
       "      <th>2516</th>\n",
       "      <td>/kaggle/input/brain-tumor-mri-images-44c/Epend...</td>\n",
       "      <td>T1C+</td>\n",
       "    </tr>\n",
       "    <tr>\n",
       "      <th>2694</th>\n",
       "      <td>/kaggle/input/brain-tumor-mri-images-44c/Epend...</td>\n",
       "      <td>T1</td>\n",
       "    </tr>\n",
       "    <tr>\n",
       "      <th>...</th>\n",
       "      <td>...</td>\n",
       "      <td>...</td>\n",
       "    </tr>\n",
       "    <tr>\n",
       "      <th>905</th>\n",
       "      <td>/kaggle/input/brain-tumor-mri-images-44c/Carci...</td>\n",
       "      <td>T1</td>\n",
       "    </tr>\n",
       "    <tr>\n",
       "      <th>2039</th>\n",
       "      <td>/kaggle/input/brain-tumor-mri-images-44c/Neuro...</td>\n",
       "      <td>T1C+</td>\n",
       "    </tr>\n",
       "    <tr>\n",
       "      <th>2688</th>\n",
       "      <td>/kaggle/input/brain-tumor-mri-images-44c/Medul...</td>\n",
       "      <td>T1</td>\n",
       "    </tr>\n",
       "    <tr>\n",
       "      <th>4195</th>\n",
       "      <td>/kaggle/input/brain-tumor-mri-images-44c/Gliob...</td>\n",
       "      <td>T1</td>\n",
       "    </tr>\n",
       "    <tr>\n",
       "      <th>4053</th>\n",
       "      <td>/kaggle/input/brain-tumor-mri-images-44c/Schwa...</td>\n",
       "      <td>T1</td>\n",
       "    </tr>\n",
       "  </tbody>\n",
       "</table>\n",
       "<p>2911 rows × 2 columns</p>\n",
       "</div>"
      ],
      "text/plain": [
       "                                                   path label\n",
       "1382  /kaggle/input/brain-tumor-mri-images-44c/Astro...    T2\n",
       "76    /kaggle/input/brain-tumor-mri-images-44c/Tuber...  T1C+\n",
       "2201  /kaggle/input/brain-tumor-mri-images-44c/Menin...    T1\n",
       "2516  /kaggle/input/brain-tumor-mri-images-44c/Epend...  T1C+\n",
       "2694  /kaggle/input/brain-tumor-mri-images-44c/Epend...    T1\n",
       "...                                                 ...   ...\n",
       "905   /kaggle/input/brain-tumor-mri-images-44c/Carci...    T1\n",
       "2039  /kaggle/input/brain-tumor-mri-images-44c/Neuro...  T1C+\n",
       "2688  /kaggle/input/brain-tumor-mri-images-44c/Medul...    T1\n",
       "4195  /kaggle/input/brain-tumor-mri-images-44c/Gliob...    T1\n",
       "4053  /kaggle/input/brain-tumor-mri-images-44c/Schwa...    T1\n",
       "\n",
       "[2911 rows x 2 columns]"
      ]
     },
     "execution_count": 18,
     "metadata": {},
     "output_type": "execute_result"
    }
   ],
   "source": [
    "train_df"
   ]
  },
  {
   "cell_type": "code",
   "execution_count": 19,
   "id": "17f2b1a3",
   "metadata": {
    "execution": {
     "iopub.execute_input": "2024-03-30T11:29:46.364835Z",
     "iopub.status.busy": "2024-03-30T11:29:46.364477Z",
     "iopub.status.idle": "2024-03-30T11:29:46.370781Z",
     "shell.execute_reply": "2024-03-30T11:29:46.370053Z"
    },
    "papermill": {
     "duration": 0.025855,
     "end_time": "2024-03-30T11:29:46.372708",
     "exception": false,
     "start_time": "2024-03-30T11:29:46.346853",
     "status": "completed"
    },
    "tags": []
   },
   "outputs": [],
   "source": [
    "train_label_counts = train_df['label'].value_counts().sort_values(ascending=False)\n",
    "train_sorted_label = train_label_counts.index"
   ]
  },
  {
   "cell_type": "code",
   "execution_count": 20,
   "id": "ce4a27d5",
   "metadata": {
    "execution": {
     "iopub.execute_input": "2024-03-30T11:29:46.410975Z",
     "iopub.status.busy": "2024-03-30T11:29:46.410699Z",
     "iopub.status.idle": "2024-03-30T11:29:46.557838Z",
     "shell.execute_reply": "2024-03-30T11:29:46.556653Z"
    },
    "papermill": {
     "duration": 0.168673,
     "end_time": "2024-03-30T11:29:46.560658",
     "exception": false,
     "start_time": "2024-03-30T11:29:46.391985",
     "status": "completed"
    },
    "tags": []
   },
   "outputs": [
    {
     "data": {
      "image/png": "[encoded data removed]",
      "text/plain": [
       "<Figure size 800x400 with 1 Axes>"
      ]
     },
     "metadata": {},
     "output_type": "display_data"
    }
   ],
   "source": [
    "plt.figure(figsize=(8,4))\n",
    "sns.barplot(x=train_label_counts.values, y=train_sorted_label)\n",
    "plt.show()"
   ]
  },
  {
   "cell_type": "code",
   "execution_count": null,
   "id": "a74d9a1b",
   "metadata": {
    "papermill": {
     "duration": 0.016609,
     "end_time": "2024-03-30T11:29:46.594522",
     "exception": false,
     "start_time": "2024-03-30T11:29:46.577913",
     "status": "completed"
    },
    "tags": []
   },
   "outputs": [],
   "source": []
  },
  {
   "cell_type": "code",
   "execution_count": null,
   "id": "ed64fcb1",
   "metadata": {
    "papermill": {
     "duration": 0.016269,
     "end_time": "2024-03-30T11:29:46.627650",
     "exception": false,
     "start_time": "2024-03-30T11:29:46.611381",
     "status": "completed"
    },
    "tags": []
   },
   "outputs": [],
   "source": []
  },
  {
   "cell_type": "code",
   "execution_count": 21,
   "id": "cf62cfc1",
   "metadata": {
    "execution": {
     "iopub.execute_input": "2024-03-30T11:29:46.662772Z",
     "iopub.status.busy": "2024-03-30T11:29:46.662395Z",
     "iopub.status.idle": "2024-03-30T11:29:46.673351Z",
     "shell.execute_reply": "2024-03-30T11:29:46.672472Z"
    },
    "papermill": {
     "duration": 0.030899,
     "end_time": "2024-03-30T11:29:46.675400",
     "exception": false,
     "start_time": "2024-03-30T11:29:46.644501",
     "status": "completed"
    },
    "tags": []
   },
   "outputs": [
    {
     "data": {
      "text/html": [
       "<div>\n",
       "<style scoped>\n",
       "    .dataframe tbody tr th:only-of-type {\n",
       "        vertical-align: middle;\n",
       "    }\n",
       "\n",
       "    .dataframe tbody tr th {\n",
       "        vertical-align: top;\n",
       "    }\n",
       "\n",
       "    .dataframe thead th {\n",
       "        text-align: right;\n",
       "    }\n",
       "</style>\n",
       "<table border=\"1\" class=\"dataframe\">\n",
       "  <thead>\n",
       "    <tr style=\"text-align: right;\">\n",
       "      <th></th>\n",
       "      <th>path</th>\n",
       "      <th>label</th>\n",
       "    </tr>\n",
       "  </thead>\n",
       "  <tbody>\n",
       "    <tr>\n",
       "      <th>507</th>\n",
       "      <td>/kaggle/input/brain-tumor-mri-images-44c/Gangl...</td>\n",
       "      <td>T2</td>\n",
       "    </tr>\n",
       "    <tr>\n",
       "      <th>2164</th>\n",
       "      <td>/kaggle/input/brain-tumor-mri-images-44c/Neuro...</td>\n",
       "      <td>T1C+</td>\n",
       "    </tr>\n",
       "    <tr>\n",
       "      <th>2357</th>\n",
       "      <td>/kaggle/input/brain-tumor-mri-images-44c/Menin...</td>\n",
       "      <td>T1</td>\n",
       "    </tr>\n",
       "    <tr>\n",
       "      <th>1107</th>\n",
       "      <td>/kaggle/input/brain-tumor-mri-images-44c/Menin...</td>\n",
       "      <td>T2</td>\n",
       "    </tr>\n",
       "    <tr>\n",
       "      <th>27</th>\n",
       "      <td>/kaggle/input/brain-tumor-mri-images-44c/Papil...</td>\n",
       "      <td>T2</td>\n",
       "    </tr>\n",
       "    <tr>\n",
       "      <th>...</th>\n",
       "      <td>...</td>\n",
       "      <td>...</td>\n",
       "    </tr>\n",
       "    <tr>\n",
       "      <th>1398</th>\n",
       "      <td>/kaggle/input/brain-tumor-mri-images-44c/Astro...</td>\n",
       "      <td>T2</td>\n",
       "    </tr>\n",
       "    <tr>\n",
       "      <th>2391</th>\n",
       "      <td>/kaggle/input/brain-tumor-mri-images-44c/Menin...</td>\n",
       "      <td>T1</td>\n",
       "    </tr>\n",
       "    <tr>\n",
       "      <th>2480</th>\n",
       "      <td>/kaggle/input/brain-tumor-mri-images-44c/Granu...</td>\n",
       "      <td>T1C+</td>\n",
       "    </tr>\n",
       "    <tr>\n",
       "      <th>1996</th>\n",
       "      <td>/kaggle/input/brain-tumor-mri-images-44c/Neuro...</td>\n",
       "      <td>T1C+</td>\n",
       "    </tr>\n",
       "    <tr>\n",
       "      <th>1381</th>\n",
       "      <td>/kaggle/input/brain-tumor-mri-images-44c/Astro...</td>\n",
       "      <td>T2</td>\n",
       "    </tr>\n",
       "  </tbody>\n",
       "</table>\n",
       "<p>784 rows × 2 columns</p>\n",
       "</div>"
      ],
      "text/plain": [
       "                                                   path label\n",
       "507   /kaggle/input/brain-tumor-mri-images-44c/Gangl...    T2\n",
       "2164  /kaggle/input/brain-tumor-mri-images-44c/Neuro...  T1C+\n",
       "2357  /kaggle/input/brain-tumor-mri-images-44c/Menin...    T1\n",
       "1107  /kaggle/input/brain-tumor-mri-images-44c/Menin...    T2\n",
       "27    /kaggle/input/brain-tumor-mri-images-44c/Papil...    T2\n",
       "...                                                 ...   ...\n",
       "1398  /kaggle/input/brain-tumor-mri-images-44c/Astro...    T2\n",
       "2391  /kaggle/input/brain-tumor-mri-images-44c/Menin...    T1\n",
       "2480  /kaggle/input/brain-tumor-mri-images-44c/Granu...  T1C+\n",
       "1996  /kaggle/input/brain-tumor-mri-images-44c/Neuro...  T1C+\n",
       "1381  /kaggle/input/brain-tumor-mri-images-44c/Astro...    T2\n",
       "\n",
       "[784 rows x 2 columns]"
      ]
     },
     "execution_count": 21,
     "metadata": {},
     "output_type": "execute_result"
    }
   ],
   "source": [
    "test_df\n"
   ]
  },
  {
   "cell_type": "code",
   "execution_count": 22,
   "id": "4aea228a",
   "metadata": {
    "execution": {
     "iopub.execute_input": "2024-03-30T11:29:46.711152Z",
     "iopub.status.busy": "2024-03-30T11:29:46.710873Z",
     "iopub.status.idle": "2024-03-30T11:29:46.716221Z",
     "shell.execute_reply": "2024-03-30T11:29:46.715381Z"
    },
    "papermill": {
     "duration": 0.025574,
     "end_time": "2024-03-30T11:29:46.718229",
     "exception": false,
     "start_time": "2024-03-30T11:29:46.692655",
     "status": "completed"
    },
    "tags": []
   },
   "outputs": [],
   "source": [
    "test_label_counts = test_df['label'].value_counts().sort_values(ascending=False)\n",
    "test_sorted_label = test_label_counts.index"
   ]
  },
  {
   "cell_type": "code",
   "execution_count": 23,
   "id": "152dff13",
   "metadata": {
    "execution": {
     "iopub.execute_input": "2024-03-30T11:29:46.753606Z",
     "iopub.status.busy": "2024-03-30T11:29:46.753322Z",
     "iopub.status.idle": "2024-03-30T11:29:46.895324Z",
     "shell.execute_reply": "2024-03-30T11:29:46.894430Z"
    },
    "papermill": {
     "duration": 0.162336,
     "end_time": "2024-03-30T11:29:46.897553",
     "exception": false,
     "start_time": "2024-03-30T11:29:46.735217",
     "status": "completed"
    },
    "tags": []
   },
   "outputs": [
    {
     "data": {
      "image/png": "[encoded data removed]",
      "text/plain": [
       "<Figure size 800x400 with 1 Axes>"
      ]
     },
     "metadata": {},
     "output_type": "display_data"
    }
   ],
   "source": [
    "plt.figure(figsize=(8,4))\n",
    "sns.barplot(x=test_label_counts.values, y=test_sorted_label)\n",
    "plt.show()"
   ]
  },
  {
   "cell_type": "code",
   "execution_count": 24,
   "id": "c2d36469",
   "metadata": {
    "execution": {
     "iopub.execute_input": "2024-03-30T11:29:46.933587Z",
     "iopub.status.busy": "2024-03-30T11:29:46.932675Z",
     "iopub.status.idle": "2024-03-30T11:29:46.943611Z",
     "shell.execute_reply": "2024-03-30T11:29:46.942762Z"
    },
    "papermill": {
     "duration": 0.030912,
     "end_time": "2024-03-30T11:29:46.945519",
     "exception": false,
     "start_time": "2024-03-30T11:29:46.914607",
     "status": "completed"
    },
    "tags": []
   },
   "outputs": [
    {
     "data": {
      "text/html": [
       "<div>\n",
       "<style scoped>\n",
       "    .dataframe tbody tr th:only-of-type {\n",
       "        vertical-align: middle;\n",
       "    }\n",
       "\n",
       "    .dataframe tbody tr th {\n",
       "        vertical-align: top;\n",
       "    }\n",
       "\n",
       "    .dataframe thead th {\n",
       "        text-align: right;\n",
       "    }\n",
       "</style>\n",
       "<table border=\"1\" class=\"dataframe\">\n",
       "  <thead>\n",
       "    <tr style=\"text-align: right;\">\n",
       "      <th></th>\n",
       "      <th>path</th>\n",
       "      <th>label</th>\n",
       "    </tr>\n",
       "  </thead>\n",
       "  <tbody>\n",
       "    <tr>\n",
       "      <th>2239</th>\n",
       "      <td>/kaggle/input/brain-tumor-mri-images-44c/Menin...</td>\n",
       "      <td>T1</td>\n",
       "    </tr>\n",
       "    <tr>\n",
       "      <th>3546</th>\n",
       "      <td>/kaggle/input/brain-tumor-mri-images-44c/Papil...</td>\n",
       "      <td>T1C+</td>\n",
       "    </tr>\n",
       "    <tr>\n",
       "      <th>3883</th>\n",
       "      <td>/kaggle/input/brain-tumor-mri-images-44c/Medul...</td>\n",
       "      <td>T1C+</td>\n",
       "    </tr>\n",
       "    <tr>\n",
       "      <th>3659</th>\n",
       "      <td>/kaggle/input/brain-tumor-mri-images-44c/Oligo...</td>\n",
       "      <td>T2</td>\n",
       "    </tr>\n",
       "    <tr>\n",
       "      <th>2640</th>\n",
       "      <td>/kaggle/input/brain-tumor-mri-images-44c/Carci...</td>\n",
       "      <td>T1C+</td>\n",
       "    </tr>\n",
       "    <tr>\n",
       "      <th>...</th>\n",
       "      <td>...</td>\n",
       "      <td>...</td>\n",
       "    </tr>\n",
       "    <tr>\n",
       "      <th>2094</th>\n",
       "      <td>/kaggle/input/brain-tumor-mri-images-44c/Neuro...</td>\n",
       "      <td>T1C+</td>\n",
       "    </tr>\n",
       "    <tr>\n",
       "      <th>2909</th>\n",
       "      <td>/kaggle/input/brain-tumor-mri-images-44c/Menin...</td>\n",
       "      <td>T1C+</td>\n",
       "    </tr>\n",
       "    <tr>\n",
       "      <th>2651</th>\n",
       "      <td>/kaggle/input/brain-tumor-mri-images-44c/Carci...</td>\n",
       "      <td>T1C+</td>\n",
       "    </tr>\n",
       "    <tr>\n",
       "      <th>79</th>\n",
       "      <td>/kaggle/input/brain-tumor-mri-images-44c/Tuber...</td>\n",
       "      <td>T1C+</td>\n",
       "    </tr>\n",
       "    <tr>\n",
       "      <th>2224</th>\n",
       "      <td>/kaggle/input/brain-tumor-mri-images-44c/Menin...</td>\n",
       "      <td>T1</td>\n",
       "    </tr>\n",
       "  </tbody>\n",
       "</table>\n",
       "<p>784 rows × 2 columns</p>\n",
       "</div>"
      ],
      "text/plain": [
       "                                                   path label\n",
       "2239  /kaggle/input/brain-tumor-mri-images-44c/Menin...    T1\n",
       "3546  /kaggle/input/brain-tumor-mri-images-44c/Papil...  T1C+\n",
       "3883  /kaggle/input/brain-tumor-mri-images-44c/Medul...  T1C+\n",
       "3659  /kaggle/input/brain-tumor-mri-images-44c/Oligo...    T2\n",
       "2640  /kaggle/input/brain-tumor-mri-images-44c/Carci...  T1C+\n",
       "...                                                 ...   ...\n",
       "2094  /kaggle/input/brain-tumor-mri-images-44c/Neuro...  T1C+\n",
       "2909  /kaggle/input/brain-tumor-mri-images-44c/Menin...  T1C+\n",
       "2651  /kaggle/input/brain-tumor-mri-images-44c/Carci...  T1C+\n",
       "79    /kaggle/input/brain-tumor-mri-images-44c/Tuber...  T1C+\n",
       "2224  /kaggle/input/brain-tumor-mri-images-44c/Menin...    T1\n",
       "\n",
       "[784 rows x 2 columns]"
      ]
     },
     "execution_count": 24,
     "metadata": {},
     "output_type": "execute_result"
    }
   ],
   "source": [
    "valid_df"
   ]
  },
  {
   "cell_type": "code",
   "execution_count": 25,
   "id": "2386bc8c",
   "metadata": {
    "execution": {
     "iopub.execute_input": "2024-03-30T11:29:46.982331Z",
     "iopub.status.busy": "2024-03-30T11:29:46.982053Z",
     "iopub.status.idle": "2024-03-30T11:29:46.987314Z",
     "shell.execute_reply": "2024-03-30T11:29:46.986625Z"
    },
    "papermill": {
     "duration": 0.025307,
     "end_time": "2024-03-30T11:29:46.989361",
     "exception": false,
     "start_time": "2024-03-30T11:29:46.964054",
     "status": "completed"
    },
    "tags": []
   },
   "outputs": [],
   "source": [
    "valid_label_counts = valid_df['label'].value_counts().sort_values(ascending=False)\n",
    "valid_sorted_label = valid_label_counts.index"
   ]
  },
  {
   "cell_type": "code",
   "execution_count": 26,
   "id": "7b0e38c1",
   "metadata": {
    "execution": {
     "iopub.execute_input": "2024-03-30T11:29:47.025390Z",
     "iopub.status.busy": "2024-03-30T11:29:47.024721Z",
     "iopub.status.idle": "2024-03-30T11:29:47.158055Z",
     "shell.execute_reply": "2024-03-30T11:29:47.157113Z"
    },
    "papermill": {
     "duration": 0.15352,
     "end_time": "2024-03-30T11:29:47.160240",
     "exception": false,
     "start_time": "2024-03-30T11:29:47.006720",
     "status": "completed"
    },
    "tags": []
   },
   "outputs": [
    {
     "data": {
      "image/png": "[encoded data removed]",
      "text/plain": [
       "<Figure size 800x400 with 1 Axes>"
      ]
     },
     "metadata": {},
     "output_type": "display_data"
    }
   ],
   "source": [
    "plt.figure(figsize=(8,4))\n",
    "sns.barplot(x=valid_label_counts.values, y=valid_sorted_label)\n",
    "plt.show()"
   ]
  },
  {
   "cell_type": "code",
   "execution_count": 27,
   "id": "89fb2186",
   "metadata": {
    "execution": {
     "iopub.execute_input": "2024-03-30T11:29:47.197119Z",
     "iopub.status.busy": "2024-03-30T11:29:47.196811Z",
     "iopub.status.idle": "2024-03-30T11:29:47.200920Z",
     "shell.execute_reply": "2024-03-30T11:29:47.200149Z"
    },
    "papermill": {
     "duration": 0.02444,
     "end_time": "2024-03-30T11:29:47.202758",
     "exception": false,
     "start_time": "2024-03-30T11:29:47.178318",
     "status": "completed"
    },
    "tags": []
   },
   "outputs": [],
   "source": [
    "img_size = (229,229)"
   ]
  },
  {
   "cell_type": "code",
   "execution_count": 28,
   "id": "c2945a9c",
   "metadata": {
    "execution": {
     "iopub.execute_input": "2024-03-30T11:29:47.238980Z",
     "iopub.status.busy": "2024-03-30T11:29:47.238712Z",
     "iopub.status.idle": "2024-03-30T11:29:52.203290Z",
     "shell.execute_reply": "2024-03-30T11:29:52.202276Z"
    },
    "papermill": {
     "duration": 4.984893,
     "end_time": "2024-03-30T11:29:52.205251",
     "exception": false,
     "start_time": "2024-03-30T11:29:47.220358",
     "status": "completed"
    },
    "tags": []
   },
   "outputs": [
    {
     "name": "stdout",
     "output_type": "stream",
     "text": [
      "Found 2910 validated image filenames belonging to 3 classes.\n"
     ]
    }
   ],
   "source": [
    "train_generator = datagen.flow_from_dataframe(\n",
    "    dataframe=train_df,\n",
    "    x_col='path',\n",
    "    y_col='label',\n",
    "    target_size=img_size,  # Resize images to 150x150\n",
    "    color_mode='rgb',\n",
    "    class_mode=\"categorical\",  \n",
    "    batch_size=BATCH,\n",
    "    shuffle=True\n",
    ")"
   ]
  },
  {
   "cell_type": "code",
   "execution_count": 29,
   "id": "cb11639b",
   "metadata": {
    "execution": {
     "iopub.execute_input": "2024-03-30T11:29:52.241932Z",
     "iopub.status.busy": "2024-03-30T11:29:52.241622Z",
     "iopub.status.idle": "2024-03-30T11:29:53.624743Z",
     "shell.execute_reply": "2024-03-30T11:29:53.623935Z"
    },
    "papermill": {
     "duration": 1.403651,
     "end_time": "2024-03-30T11:29:53.626701",
     "exception": false,
     "start_time": "2024-03-30T11:29:52.223050",
     "status": "completed"
    },
    "tags": []
   },
   "outputs": [
    {
     "name": "stdout",
     "output_type": "stream",
     "text": [
      "Found 784 validated image filenames belonging to 3 classes.\n"
     ]
    }
   ],
   "source": [
    "valid_generator = datagen.flow_from_dataframe(\n",
    "    dataframe=valid_df,\n",
    "    x_col='path',\n",
    "    y_col='label',\n",
    "    target_size=img_size,  # Resize images to 150x150\n",
    "    color_mode='rgb',\n",
    "    class_mode=\"categorical\",  # \"raw\" for regression tasks, \"binary\" for binary classification\n",
    "    batch_size=BATCH,\n",
    "    shuffle=True\n",
    ")"
   ]
  },
  {
   "cell_type": "code",
   "execution_count": 30,
   "id": "a0f58217",
   "metadata": {
    "execution": {
     "iopub.execute_input": "2024-03-30T11:29:53.663443Z",
     "iopub.status.busy": "2024-03-30T11:29:53.663088Z",
     "iopub.status.idle": "2024-03-30T11:29:55.067087Z",
     "shell.execute_reply": "2024-03-30T11:29:55.066246Z"
    },
    "papermill": {
     "duration": 1.424545,
     "end_time": "2024-03-30T11:29:55.069133",
     "exception": false,
     "start_time": "2024-03-30T11:29:53.644588",
     "status": "completed"
    },
    "tags": []
   },
   "outputs": [
    {
     "name": "stdout",
     "output_type": "stream",
     "text": [
      "Found 784 validated image filenames belonging to 3 classes.\n"
     ]
    }
   ],
   "source": [
    "test_generator = datagen.flow_from_dataframe(\n",
    "    dataframe=test_df,\n",
    "    x_col='path',\n",
    "    y_col='label',\n",
    "    target_size=img_size,  # Resize images to 150x150\n",
    "    color_mode='rgb',\n",
    "    class_mode=\"categorical\",  # \"raw\" for regression tasks, \"binary\" for binary classification\n",
    "    batch_size=BATCH,\n",
    "    shuffle=True\n",
    ")"
   ]
  },
  {
   "cell_type": "code",
   "execution_count": null,
   "id": "c5fdc816",
   "metadata": {
    "papermill": {
     "duration": 0.017287,
     "end_time": "2024-03-30T11:29:55.104278",
     "exception": false,
     "start_time": "2024-03-30T11:29:55.086991",
     "status": "completed"
    },
    "tags": []
   },
   "outputs": [],
   "source": []
  },
  {
   "cell_type": "code",
   "execution_count": 31,
   "id": "f1bf9c77",
   "metadata": {
    "execution": {
     "iopub.execute_input": "2024-03-30T11:29:55.140893Z",
     "iopub.status.busy": "2024-03-30T11:29:55.140565Z",
     "iopub.status.idle": "2024-03-30T11:30:03.762390Z",
     "shell.execute_reply": "2024-03-30T11:30:03.761255Z"
    },
    "papermill": {
     "duration": 8.64263,
     "end_time": "2024-03-30T11:30:03.764790",
     "exception": false,
     "start_time": "2024-03-30T11:29:55.122160",
     "status": "completed"
    },
    "tags": []
   },
   "outputs": [
    {
     "name": "stdout",
     "output_type": "stream",
     "text": [
      "Downloading data from https://storage.googleapis.com/tensorflow/keras-applications/xception/xception_weights_tf_dim_ordering_tf_kernels_notop.h5\n",
      "83683744/83683744 [==============================] - 5s 0us/step\n"
     ]
    }
   ],
   "source": [
    "\n",
    "xcept = tf.keras.applications.xception.Xception(\n",
    "    include_top=False,\n",
    "    weights='imagenet',\n",
    "    input_tensor=None,\n",
    "    input_shape=None,\n",
    "    pooling='max'\n",
    ")"
   ]
  },
  {
   "cell_type": "code",
   "execution_count": 32,
   "id": "e5c91468",
   "metadata": {
    "execution": {
     "iopub.execute_input": "2024-03-30T11:30:03.813242Z",
     "iopub.status.busy": "2024-03-30T11:30:03.812352Z",
     "iopub.status.idle": "2024-03-30T11:30:03.818697Z",
     "shell.execute_reply": "2024-03-30T11:30:03.817638Z"
    },
    "papermill": {
     "duration": 0.032517,
     "end_time": "2024-03-30T11:30:03.820886",
     "exception": false,
     "start_time": "2024-03-30T11:30:03.788369",
     "status": "completed"
    },
    "tags": []
   },
   "outputs": [
    {
     "data": {
      "text/plain": [
       "<keras.src.engine.functional.Functional at 0x798df7139c90>"
      ]
     },
     "execution_count": 32,
     "metadata": {},
     "output_type": "execute_result"
    }
   ],
   "source": [
    "xcept"
   ]
  },
  {
   "cell_type": "code",
   "execution_count": 33,
   "id": "75e04702",
   "metadata": {
    "execution": {
     "iopub.execute_input": "2024-03-30T11:30:03.867721Z",
     "iopub.status.busy": "2024-03-30T11:30:03.867005Z",
     "iopub.status.idle": "2024-03-30T11:30:03.875952Z",
     "shell.execute_reply": "2024-03-30T11:30:03.874987Z"
    },
    "papermill": {
     "duration": 0.034629,
     "end_time": "2024-03-30T11:30:03.878011",
     "exception": false,
     "start_time": "2024-03-30T11:30:03.843382",
     "status": "completed"
    },
    "tags": []
   },
   "outputs": [],
   "source": [
    "\n",
    "class TumorClassifierModel:\n",
    "    def __init__(self, inputs):\n",
    "        self.inputs = inputs\n",
    "        self.feature_extractor = self.build_feature_extractor(inputs)\n",
    "        self.classifier_adaptor = self.build_classifier_adaptor(self.feature_extractor)\n",
    "        self.classifier_head = self.build_classifier_head(self.classifier_adaptor)\n",
    "        \n",
    "    def build_feature_extractor(self, inputs):\n",
    "        x = xcept(inputs)\n",
    "        # Freeze the layers of the EfficientNet model\n",
    "        for layer in xcept.layers:\n",
    "            layer.trainable = False\n",
    "    \n",
    "        return x\n",
    "    def build_classifier_adaptor(self, inputs):\n",
    "        x = layers.Flatten()(inputs)\n",
    "        x = layers.Dense(256, kernel_regularizer=regularizers.l2(0.001), \n",
    "                          activation='relu')(x)\n",
    "        x = layers.Dropout(rate=0.3)(x)\n",
    "        return x\n",
    "\n",
    "    def build_classifier_head(self, inputs):\n",
    "        x = layers.Dense(3, activation='softmax')(inputs)\n",
    "        return x\n",
    "\n",
    "    def build_model(self):\n",
    "        model = tf.keras.Model(inputs=self.inputs, outputs=self.classifier_head)\n",
    "        return model\n",
    "\n"
   ]
  },
  {
   "cell_type": "code",
   "execution_count": 34,
   "id": "6926f308",
   "metadata": {
    "execution": {
     "iopub.execute_input": "2024-03-30T11:30:03.924960Z",
     "iopub.status.busy": "2024-03-30T11:30:03.924675Z",
     "iopub.status.idle": "2024-03-30T11:30:03.930292Z",
     "shell.execute_reply": "2024-03-30T11:30:03.929460Z"
    },
    "papermill": {
     "duration": 0.03112,
     "end_time": "2024-03-30T11:30:03.932172",
     "exception": false,
     "start_time": "2024-03-30T11:30:03.901052",
     "status": "completed"
    },
    "tags": []
   },
   "outputs": [],
   "source": [
    "\n",
    "inputs = tf.keras.Input(shape=(299, 299, 3)) \n",
    "\n",
    "\n",
    "\n"
   ]
  },
  {
   "cell_type": "code",
   "execution_count": 35,
   "id": "a3c76409",
   "metadata": {
    "execution": {
     "iopub.execute_input": "2024-03-30T11:30:03.978615Z",
     "iopub.status.busy": "2024-03-30T11:30:03.978210Z",
     "iopub.status.idle": "2024-03-30T11:30:04.445239Z",
     "shell.execute_reply": "2024-03-30T11:30:04.444451Z"
    },
    "papermill": {
     "duration": 0.492758,
     "end_time": "2024-03-30T11:30:04.447515",
     "exception": false,
     "start_time": "2024-03-30T11:30:03.954757",
     "status": "completed"
    },
    "tags": []
   },
   "outputs": [],
   "source": [
    "tumor_classifier = TumorClassifierModel(inputs)\n"
   ]
  },
  {
   "cell_type": "code",
   "execution_count": 36,
   "id": "413e4b6b",
   "metadata": {
    "execution": {
     "iopub.execute_input": "2024-03-30T11:30:04.498090Z",
     "iopub.status.busy": "2024-03-30T11:30:04.497436Z",
     "iopub.status.idle": "2024-03-30T11:30:04.562458Z",
     "shell.execute_reply": "2024-03-30T11:30:04.561404Z"
    },
    "papermill": {
     "duration": 0.093557,
     "end_time": "2024-03-30T11:30:04.564750",
     "exception": false,
     "start_time": "2024-03-30T11:30:04.471193",
     "status": "completed"
    },
    "tags": []
   },
   "outputs": [
    {
     "name": "stdout",
     "output_type": "stream",
     "text": [
      "Model: \"model\"\n",
      "_________________________________________________________________\n",
      " Layer (type)                Output Shape              Param #   \n",
      "=================================================================\n",
      " input_2 (InputLayer)        [(None, 299, 299, 3)]     0         \n",
      "                                                                 \n",
      " xception (Functional)       (None, 2048)              20861480  \n",
      "                                                                 \n",
      " flatten (Flatten)           (None, 2048)              0         \n",
      "                                                                 \n",
      " dense (Dense)               (None, 256)               524544    \n",
      "                                                                 \n",
      " dropout (Dropout)           (None, 256)               0         \n",
      "                                                                 \n",
      " dense_1 (Dense)             (None, 3)                 771       \n",
      "                                                                 \n",
      "=================================================================\n",
      "Total params: 21386795 (81.58 MB)\n",
      "Trainable params: 525315 (2.00 MB)\n",
      "Non-trainable params: 20861480 (79.58 MB)\n",
      "_________________________________________________________________\n"
     ]
    }
   ],
   "source": [
    "model = tumor_classifier.build_model()\n",
    "\n",
    "model.compile(optimizer=tf.keras.optimizers.Adam(learning_rate=0.001), \n",
    "              loss='categorical_crossentropy', \n",
    "              metrics=['accuracy'])\n",
    "\n",
    "\n",
    "model.summary()"
   ]
  },
  {
   "cell_type": "code",
   "execution_count": 37,
   "id": "4e8a040b",
   "metadata": {
    "execution": {
     "iopub.execute_input": "2024-03-30T11:30:04.623844Z",
     "iopub.status.busy": "2024-03-30T11:30:04.622931Z",
     "iopub.status.idle": "2024-03-30T11:30:04.633052Z",
     "shell.execute_reply": "2024-03-30T11:30:04.632086Z"
    },
    "papermill": {
     "duration": 0.042114,
     "end_time": "2024-03-30T11:30:04.635143",
     "exception": false,
     "start_time": "2024-03-30T11:30:04.593029",
     "status": "completed"
    },
    "tags": []
   },
   "outputs": [
    {
     "data": {
      "text/plain": [
       "{'name': 'Adam',\n",
       " 'weight_decay': None,\n",
       " 'clipnorm': None,\n",
       " 'global_clipnorm': None,\n",
       " 'clipvalue': None,\n",
       " 'use_ema': False,\n",
       " 'ema_momentum': 0.99,\n",
       " 'ema_overwrite_frequency': None,\n",
       " 'jit_compile': True,\n",
       " 'is_legacy_optimizer': False,\n",
       " 'learning_rate': 0.001,\n",
       " 'beta_1': 0.9,\n",
       " 'beta_2': 0.999,\n",
       " 'epsilon': 1e-07,\n",
       " 'amsgrad': False}"
      ]
     },
     "execution_count": 37,
     "metadata": {},
     "output_type": "execute_result"
    }
   ],
   "source": [
    "model.optimizer.get_config() "
   ]
  },
  {
   "cell_type": "code",
   "execution_count": 38,
   "id": "66af9a75",
   "metadata": {
    "execution": {
     "iopub.execute_input": "2024-03-30T11:30:04.692531Z",
     "iopub.status.busy": "2024-03-30T11:30:04.691556Z",
     "iopub.status.idle": "2024-03-30T11:30:04.697198Z",
     "shell.execute_reply": "2024-03-30T11:30:04.696154Z"
    },
    "papermill": {
     "duration": 0.036523,
     "end_time": "2024-03-30T11:30:04.699384",
     "exception": false,
     "start_time": "2024-03-30T11:30:04.662861",
     "status": "completed"
    },
    "tags": []
   },
   "outputs": [],
   "source": [
    "early_stopping = tf.keras.callbacks.EarlyStopping(\n",
    "    monitor='val_loss',\n",
    "    patience = 10,\n",
    "    restore_best_weights = True,\n",
    "    verbose = 1,\n",
    "    min_delta = 0.001,\n",
    ")"
   ]
  },
  {
   "cell_type": "code",
   "execution_count": 39,
   "id": "3fbf5765",
   "metadata": {
    "execution": {
     "iopub.execute_input": "2024-03-30T11:30:04.757188Z",
     "iopub.status.busy": "2024-03-30T11:30:04.756784Z",
     "iopub.status.idle": "2024-03-30T11:30:04.762200Z",
     "shell.execute_reply": "2024-03-30T11:30:04.761231Z"
    },
    "papermill": {
     "duration": 0.03679,
     "end_time": "2024-03-30T11:30:04.764392",
     "exception": false,
     "start_time": "2024-03-30T11:30:04.727602",
     "status": "completed"
    },
    "tags": []
   },
   "outputs": [],
   "source": [
    "model_checkpoint = tf.keras.callbacks.ModelCheckpoint('model_weights.h8', \n",
    "                             monitor='val_loss',\n",
    "                             verbose = 1,\n",
    "                             save_best_only=True, \n",
    "                             save_weights_only=True, \n",
    "                             mode='min'\n",
    "                             )"
   ]
  },
  {
   "cell_type": "code",
   "execution_count": 40,
   "id": "801c4750",
   "metadata": {
    "execution": {
     "iopub.execute_input": "2024-03-30T11:30:04.819201Z",
     "iopub.status.busy": "2024-03-30T11:30:04.818833Z",
     "iopub.status.idle": "2024-03-30T11:30:04.823287Z",
     "shell.execute_reply": "2024-03-30T11:30:04.822338Z"
    },
    "papermill": {
     "duration": 0.033412,
     "end_time": "2024-03-30T11:30:04.825343",
     "exception": false,
     "start_time": "2024-03-30T11:30:04.791931",
     "status": "completed"
    },
    "tags": []
   },
   "outputs": [],
   "source": [
    "\n",
    "\n",
    "from sklearn.utils.class_weight import compute_class_weight\n"
   ]
  },
  {
   "cell_type": "code",
   "execution_count": null,
   "id": "4bd4bf2e",
   "metadata": {
    "papermill": {
     "duration": 0.023955,
     "end_time": "2024-03-30T11:30:04.875993",
     "exception": false,
     "start_time": "2024-03-30T11:30:04.852038",
     "status": "completed"
    },
    "tags": []
   },
   "outputs": [],
   "source": []
  },
  {
   "cell_type": "markdown",
   "id": "24bf7ea7",
   "metadata": {
    "papermill": {
     "duration": 0.023652,
     "end_time": "2024-03-30T11:30:04.924859",
     "exception": false,
     "start_time": "2024-03-30T11:30:04.901207",
     "status": "completed"
    },
    "tags": []
   },
   "source": []
  },
  {
   "cell_type": "code",
   "execution_count": null,
   "id": "fe0d9555",
   "metadata": {
    "papermill": {
     "duration": 0.023795,
     "end_time": "2024-03-30T11:30:04.972597",
     "exception": false,
     "start_time": "2024-03-30T11:30:04.948802",
     "status": "completed"
    },
    "tags": []
   },
   "outputs": [],
   "source": []
  },
  {
   "cell_type": "code",
   "execution_count": 41,
   "id": "91110345",
   "metadata": {
    "execution": {
     "iopub.execute_input": "2024-03-30T11:30:05.022118Z",
     "iopub.status.busy": "2024-03-30T11:30:05.021756Z",
     "iopub.status.idle": "2024-03-30T11:30:05.026180Z",
     "shell.execute_reply": "2024-03-30T11:30:05.025324Z"
    },
    "papermill": {
     "duration": 0.031588,
     "end_time": "2024-03-30T11:30:05.028132",
     "exception": false,
     "start_time": "2024-03-30T11:30:04.996544",
     "status": "completed"
    },
    "tags": []
   },
   "outputs": [],
   "source": [
    "reduce_lr = ReduceLROnPlateau(monitor='val_loss', factor=0.2,\n",
    "                              patience=5, min_lr=0.001)"
   ]
  },
  {
   "cell_type": "code",
   "execution_count": 42,
   "id": "77df18f3",
   "metadata": {
    "execution": {
     "iopub.execute_input": "2024-03-30T11:30:05.077929Z",
     "iopub.status.busy": "2024-03-30T11:30:05.077278Z",
     "iopub.status.idle": "2024-03-30T11:47:52.811892Z",
     "shell.execute_reply": "2024-03-30T11:47:52.811040Z"
    },
    "papermill": {
     "duration": 1067.766809,
     "end_time": "2024-03-30T11:47:52.818907",
     "exception": false,
     "start_time": "2024-03-30T11:30:05.052098",
     "status": "completed"
    },
    "tags": []
   },
   "outputs": [
    {
     "name": "stdout",
     "output_type": "stream",
     "text": [
      "Epoch 1/100\n"
     ]
    },
    {
     "name": "stderr",
     "output_type": "stream",
     "text": [
      "WARNING: All log messages before absl::InitializeLog() is called are written to STDERR\n",
      "I0000 00:00:1711798213.193522      68 device_compiler.h:186] Compiled cluster using XLA!  This line is logged at most once for the lifetime of the process.\n"
     ]
    },
    {
     "name": "stdout",
     "output_type": "stream",
     "text": [
      "20/20 [==============================] - ETA: 0s - loss: 2.1074 - accuracy: 0.5361\n",
      "Epoch 1: val_loss improved from inf to 1.51695, saving model to model_weights.h8\n",
      "20/20 [==============================] - 33s 1s/step - loss: 2.1074 - accuracy: 0.5361 - val_loss: 1.5169 - val_accuracy: 0.5676 - lr: 0.0010\n",
      "Epoch 2/100\n",
      "20/20 [==============================] - ETA: 0s - loss: 1.1345 - accuracy: 0.6922\n",
      "Epoch 2: val_loss improved from 1.51695 to 0.94122, saving model to model_weights.h8\n",
      "20/20 [==============================] - 21s 1s/step - loss: 1.1345 - accuracy: 0.6922 - val_loss: 0.9412 - val_accuracy: 0.7704 - lr: 0.0010\n",
      "Epoch 3/100\n",
      "20/20 [==============================] - ETA: 0s - loss: 0.8855 - accuracy: 0.7984\n",
      "Epoch 3: val_loss improved from 0.94122 to 0.77840, saving model to model_weights.h8\n",
      "20/20 [==============================] - 21s 1s/step - loss: 0.8855 - accuracy: 0.7984 - val_loss: 0.7784 - val_accuracy: 0.8661 - lr: 0.0010\n",
      "Epoch 4/100\n",
      "20/20 [==============================] - ETA: 0s - loss: 0.8192 - accuracy: 0.8094\n",
      "Epoch 4: val_loss improved from 0.77840 to 0.74303, saving model to model_weights.h8\n",
      "20/20 [==============================] - 20s 1s/step - loss: 0.8192 - accuracy: 0.8094 - val_loss: 0.7430 - val_accuracy: 0.8508 - lr: 0.0010\n",
      "Epoch 5/100\n",
      "20/20 [==============================] - ETA: 0s - loss: 0.8045 - accuracy: 0.8150\n",
      "Epoch 5: val_loss did not improve from 0.74303\n",
      "20/20 [==============================] - 19s 984ms/step - loss: 0.8045 - accuracy: 0.8150 - val_loss: 0.7673 - val_accuracy: 0.8202 - lr: 0.0010\n",
      "Epoch 6/100\n",
      "20/20 [==============================] - ETA: 0s - loss: 0.7300 - accuracy: 0.8547\n",
      "Epoch 6: val_loss improved from 0.74303 to 0.67652, saving model to model_weights.h8\n",
      "20/20 [==============================] - 20s 1s/step - loss: 0.7300 - accuracy: 0.8547 - val_loss: 0.6765 - val_accuracy: 0.8610 - lr: 0.0010\n",
      "Epoch 7/100\n",
      "20/20 [==============================] - ETA: 0s - loss: 0.6350 - accuracy: 0.8793\n",
      "Epoch 7: val_loss improved from 0.67652 to 0.60229, saving model to model_weights.h8\n",
      "20/20 [==============================] - 20s 1s/step - loss: 0.6350 - accuracy: 0.8793 - val_loss: 0.6023 - val_accuracy: 0.9043 - lr: 0.0010\n",
      "Epoch 8/100\n",
      "20/20 [==============================] - ETA: 0s - loss: 0.6444 - accuracy: 0.8715\n",
      "Epoch 8: val_loss improved from 0.60229 to 0.56495, saving model to model_weights.h8\n",
      "20/20 [==============================] - 19s 980ms/step - loss: 0.6444 - accuracy: 0.8715 - val_loss: 0.5650 - val_accuracy: 0.9069 - lr: 0.0010\n",
      "Epoch 9/100\n",
      "20/20 [==============================] - ETA: 0s - loss: 0.6515 - accuracy: 0.8594\n",
      "Epoch 9: val_loss did not improve from 0.56495\n",
      "20/20 [==============================] - 19s 970ms/step - loss: 0.6515 - accuracy: 0.8594 - val_loss: 0.5736 - val_accuracy: 0.9120 - lr: 0.0010\n",
      "Epoch 10/100\n",
      "20/20 [==============================] - ETA: 0s - loss: 0.6536 - accuracy: 0.8609\n",
      "Epoch 10: val_loss improved from 0.56495 to 0.55910, saving model to model_weights.h8\n",
      "20/20 [==============================] - 20s 1s/step - loss: 0.6536 - accuracy: 0.8609 - val_loss: 0.5591 - val_accuracy: 0.9018 - lr: 0.0010\n",
      "Epoch 11/100\n",
      "20/20 [==============================] - ETA: 0s - loss: 0.5748 - accuracy: 0.8875\n",
      "Epoch 11: val_loss did not improve from 0.55910\n",
      "20/20 [==============================] - 18s 934ms/step - loss: 0.5748 - accuracy: 0.8875 - val_loss: 0.6100 - val_accuracy: 0.8661 - lr: 0.0010\n",
      "Epoch 12/100\n",
      "20/20 [==============================] - ETA: 0s - loss: 0.5739 - accuracy: 0.8813\n",
      "Epoch 12: val_loss improved from 0.55910 to 0.53122, saving model to model_weights.h8\n",
      "20/20 [==============================] - 19s 994ms/step - loss: 0.5739 - accuracy: 0.8813 - val_loss: 0.5312 - val_accuracy: 0.9094 - lr: 0.0010\n",
      "Epoch 13/100\n",
      "20/20 [==============================] - ETA: 0s - loss: 0.5725 - accuracy: 0.8840\n",
      "Epoch 13: val_loss improved from 0.53122 to 0.50510, saving model to model_weights.h8\n",
      "20/20 [==============================] - 19s 979ms/step - loss: 0.5725 - accuracy: 0.8840 - val_loss: 0.5051 - val_accuracy: 0.9094 - lr: 0.0010\n",
      "Epoch 14/100\n",
      "20/20 [==============================] - ETA: 0s - loss: 0.5367 - accuracy: 0.8938\n",
      "Epoch 14: val_loss did not improve from 0.50510\n",
      "20/20 [==============================] - 18s 940ms/step - loss: 0.5367 - accuracy: 0.8938 - val_loss: 0.5301 - val_accuracy: 0.8878 - lr: 0.0010\n",
      "Epoch 15/100\n",
      "20/20 [==============================] - ETA: 0s - loss: 0.4885 - accuracy: 0.8938\n",
      "Epoch 15: val_loss did not improve from 0.50510\n",
      "20/20 [==============================] - 19s 968ms/step - loss: 0.4885 - accuracy: 0.8938 - val_loss: 0.5053 - val_accuracy: 0.9018 - lr: 0.0010\n",
      "Epoch 16/100\n",
      "20/20 [==============================] - ETA: 0s - loss: 0.5431 - accuracy: 0.8844\n",
      "Epoch 16: val_loss improved from 0.50510 to 0.45510, saving model to model_weights.h8\n",
      "20/20 [==============================] - 19s 964ms/step - loss: 0.5431 - accuracy: 0.8844 - val_loss: 0.4551 - val_accuracy: 0.9235 - lr: 0.0010\n",
      "Epoch 17/100\n",
      "20/20 [==============================] - ETA: 0s - loss: 0.5310 - accuracy: 0.8950\n",
      "Epoch 17: val_loss did not improve from 0.45510\n",
      "20/20 [==============================] - 18s 936ms/step - loss: 0.5310 - accuracy: 0.8950 - val_loss: 0.5249 - val_accuracy: 0.8839 - lr: 0.0010\n",
      "Epoch 18/100\n",
      "20/20 [==============================] - ETA: 0s - loss: 0.4913 - accuracy: 0.8938\n",
      "Epoch 18: val_loss did not improve from 0.45510\n",
      "20/20 [==============================] - 18s 940ms/step - loss: 0.4913 - accuracy: 0.8938 - val_loss: 0.4668 - val_accuracy: 0.9043 - lr: 0.0010\n",
      "Epoch 19/100\n",
      "20/20 [==============================] - ETA: 0s - loss: 0.5021 - accuracy: 0.8922\n",
      "Epoch 19: val_loss did not improve from 0.45510\n",
      "20/20 [==============================] - 19s 950ms/step - loss: 0.5021 - accuracy: 0.8922 - val_loss: 0.4873 - val_accuracy: 0.9094 - lr: 0.0010\n",
      "Epoch 20/100\n",
      "20/20 [==============================] - ETA: 0s - loss: 0.4721 - accuracy: 0.8984\n",
      "Epoch 20: val_loss improved from 0.45510 to 0.44001, saving model to model_weights.h8\n",
      "20/20 [==============================] - 19s 993ms/step - loss: 0.4721 - accuracy: 0.8984 - val_loss: 0.4400 - val_accuracy: 0.9286 - lr: 0.0010\n",
      "Epoch 21/100\n",
      "20/20 [==============================] - ETA: 0s - loss: 0.4448 - accuracy: 0.9203\n",
      "Epoch 21: val_loss did not improve from 0.44001\n",
      "20/20 [==============================] - 19s 982ms/step - loss: 0.4448 - accuracy: 0.9203 - val_loss: 0.4549 - val_accuracy: 0.9145 - lr: 0.0010\n",
      "Epoch 22/100\n",
      "20/20 [==============================] - ETA: 0s - loss: 0.4129 - accuracy: 0.9266\n",
      "Epoch 22: val_loss improved from 0.44001 to 0.43928, saving model to model_weights.h8\n",
      "20/20 [==============================] - 20s 1s/step - loss: 0.4129 - accuracy: 0.9266 - val_loss: 0.4393 - val_accuracy: 0.9120 - lr: 0.0010\n",
      "Epoch 23/100\n",
      "20/20 [==============================] - ETA: 0s - loss: 0.4809 - accuracy: 0.8966\n",
      "Epoch 23: val_loss improved from 0.43928 to 0.41496, saving model to model_weights.h8\n",
      "20/20 [==============================] - 19s 993ms/step - loss: 0.4809 - accuracy: 0.8966 - val_loss: 0.4150 - val_accuracy: 0.9196 - lr: 0.0010\n",
      "Epoch 24/100\n",
      "20/20 [==============================] - ETA: 0s - loss: 0.4379 - accuracy: 0.9279\n",
      "Epoch 24: val_loss improved from 0.41496 to 0.39392, saving model to model_weights.h8\n",
      "20/20 [==============================] - 19s 988ms/step - loss: 0.4379 - accuracy: 0.9279 - val_loss: 0.3939 - val_accuracy: 0.9260 - lr: 0.0010\n",
      "Epoch 25/100\n",
      "20/20 [==============================] - ETA: 0s - loss: 0.4119 - accuracy: 0.9094\n",
      "Epoch 25: val_loss did not improve from 0.39392\n",
      "20/20 [==============================] - 19s 977ms/step - loss: 0.4119 - accuracy: 0.9094 - val_loss: 0.4129 - val_accuracy: 0.9209 - lr: 0.0010\n",
      "Epoch 26/100\n",
      "20/20 [==============================] - ETA: 0s - loss: 0.4549 - accuracy: 0.9028\n",
      "Epoch 26: val_loss did not improve from 0.39392\n",
      "20/20 [==============================] - 19s 961ms/step - loss: 0.4549 - accuracy: 0.9028 - val_loss: 0.3985 - val_accuracy: 0.9260 - lr: 0.0010\n",
      "Epoch 27/100\n",
      "20/20 [==============================] - ETA: 0s - loss: 0.3976 - accuracy: 0.9219\n",
      "Epoch 27: val_loss improved from 0.39392 to 0.38551, saving model to model_weights.h8\n",
      "20/20 [==============================] - 19s 979ms/step - loss: 0.3976 - accuracy: 0.9219 - val_loss: 0.3855 - val_accuracy: 0.9298 - lr: 0.0010\n",
      "Epoch 28/100\n",
      "20/20 [==============================] - ETA: 0s - loss: 0.3723 - accuracy: 0.9297\n",
      "Epoch 28: val_loss did not improve from 0.38551\n",
      "20/20 [==============================] - 19s 970ms/step - loss: 0.3723 - accuracy: 0.9297 - val_loss: 0.3934 - val_accuracy: 0.9298 - lr: 0.0010\n",
      "Epoch 29/100\n",
      "20/20 [==============================] - ETA: 0s - loss: 0.3958 - accuracy: 0.9281\n",
      "Epoch 29: val_loss did not improve from 0.38551\n",
      "20/20 [==============================] - 18s 933ms/step - loss: 0.3958 - accuracy: 0.9281 - val_loss: 0.3962 - val_accuracy: 0.9145 - lr: 0.0010\n",
      "Epoch 30/100\n",
      "20/20 [==============================] - ETA: 0s - loss: 0.4192 - accuracy: 0.9141\n",
      "Epoch 30: val_loss did not improve from 0.38551\n",
      "20/20 [==============================] - 19s 950ms/step - loss: 0.4192 - accuracy: 0.9141 - val_loss: 0.3932 - val_accuracy: 0.9184 - lr: 0.0010\n",
      "Epoch 31/100\n",
      "20/20 [==============================] - ETA: 0s - loss: 0.4166 - accuracy: 0.9078\n",
      "Epoch 31: val_loss improved from 0.38551 to 0.35182, saving model to model_weights.h8\n",
      "20/20 [==============================] - 19s 979ms/step - loss: 0.4166 - accuracy: 0.9078 - val_loss: 0.3518 - val_accuracy: 0.9311 - lr: 0.0010\n",
      "Epoch 32/100\n",
      "20/20 [==============================] - ETA: 0s - loss: 0.3974 - accuracy: 0.8953\n",
      "Epoch 32: val_loss did not improve from 0.35182\n",
      "20/20 [==============================] - 18s 939ms/step - loss: 0.3974 - accuracy: 0.8953 - val_loss: 0.3677 - val_accuracy: 0.9349 - lr: 0.0010\n",
      "Epoch 33/100\n",
      "20/20 [==============================] - ETA: 0s - loss: 0.3895 - accuracy: 0.9141\n",
      "Epoch 33: val_loss did not improve from 0.35182\n",
      "20/20 [==============================] - 19s 957ms/step - loss: 0.3895 - accuracy: 0.9141 - val_loss: 0.4297 - val_accuracy: 0.8890 - lr: 0.0010\n",
      "Epoch 34/100\n",
      "20/20 [==============================] - ETA: 0s - loss: 0.3849 - accuracy: 0.9125\n",
      "Epoch 34: val_loss did not improve from 0.35182\n",
      "20/20 [==============================] - 18s 939ms/step - loss: 0.3849 - accuracy: 0.9125 - val_loss: 0.4092 - val_accuracy: 0.9082 - lr: 0.0010\n",
      "Epoch 35/100\n",
      "20/20 [==============================] - ETA: 0s - loss: 0.4108 - accuracy: 0.9156\n",
      "Epoch 35: val_loss improved from 0.35182 to 0.33320, saving model to model_weights.h8\n",
      "20/20 [==============================] - 19s 969ms/step - loss: 0.4108 - accuracy: 0.9156 - val_loss: 0.3332 - val_accuracy: 0.9464 - lr: 0.0010\n",
      "Epoch 36/100\n",
      "20/20 [==============================] - ETA: 0s - loss: 0.4046 - accuracy: 0.9031\n",
      "Epoch 36: val_loss did not improve from 0.33320\n",
      "20/20 [==============================] - 19s 960ms/step - loss: 0.4046 - accuracy: 0.9031 - val_loss: 0.3900 - val_accuracy: 0.9120 - lr: 0.0010\n",
      "Epoch 37/100\n",
      "20/20 [==============================] - ETA: 0s - loss: 0.3538 - accuracy: 0.9219\n",
      "Epoch 37: val_loss did not improve from 0.33320\n",
      "20/20 [==============================] - 19s 954ms/step - loss: 0.3538 - accuracy: 0.9219 - val_loss: 0.4038 - val_accuracy: 0.9005 - lr: 0.0010\n",
      "Epoch 38/100\n",
      "20/20 [==============================] - ETA: 0s - loss: 0.3446 - accuracy: 0.9216\n",
      "Epoch 38: val_loss did not improve from 0.33320\n",
      "20/20 [==============================] - 18s 945ms/step - loss: 0.3446 - accuracy: 0.9216 - val_loss: 0.3444 - val_accuracy: 0.9196 - lr: 0.0010\n",
      "Epoch 39/100\n",
      "20/20 [==============================] - ETA: 0s - loss: 0.3964 - accuracy: 0.9141\n",
      "Epoch 39: val_loss did not improve from 0.33320\n",
      "20/20 [==============================] - 19s 955ms/step - loss: 0.3964 - accuracy: 0.9141 - val_loss: 0.3375 - val_accuracy: 0.9286 - lr: 0.0010\n",
      "Epoch 40/100\n",
      "20/20 [==============================] - ETA: 0s - loss: 0.3323 - accuracy: 0.9312\n",
      "Epoch 40: val_loss improved from 0.33320 to 0.32799, saving model to model_weights.h8\n",
      "20/20 [==============================] - 19s 972ms/step - loss: 0.3323 - accuracy: 0.9312 - val_loss: 0.3280 - val_accuracy: 0.9401 - lr: 0.0010\n",
      "Epoch 41/100\n",
      "20/20 [==============================] - ETA: 0s - loss: 0.3633 - accuracy: 0.9172\n",
      "Epoch 41: val_loss did not improve from 0.32799\n",
      "20/20 [==============================] - 18s 930ms/step - loss: 0.3633 - accuracy: 0.9172 - val_loss: 0.4226 - val_accuracy: 0.9082 - lr: 0.0010\n",
      "Epoch 42/100\n",
      "20/20 [==============================] - ETA: 0s - loss: 0.4055 - accuracy: 0.9094\n",
      "Epoch 42: val_loss did not improve from 0.32799\n",
      "20/20 [==============================] - 18s 939ms/step - loss: 0.4055 - accuracy: 0.9094 - val_loss: 0.3440 - val_accuracy: 0.9324 - lr: 0.0010\n",
      "Epoch 43/100\n",
      "20/20 [==============================] - ETA: 0s - loss: 0.3213 - accuracy: 0.9281\n",
      "Epoch 43: val_loss did not improve from 0.32799\n",
      "20/20 [==============================] - 19s 944ms/step - loss: 0.3213 - accuracy: 0.9281 - val_loss: 0.3353 - val_accuracy: 0.9235 - lr: 0.0010\n",
      "Epoch 44/100\n",
      "20/20 [==============================] - ETA: 0s - loss: 0.3763 - accuracy: 0.8966\n",
      "Epoch 44: val_loss improved from 0.32799 to 0.30459, saving model to model_weights.h8\n",
      "20/20 [==============================] - 19s 964ms/step - loss: 0.3763 - accuracy: 0.8966 - val_loss: 0.3046 - val_accuracy: 0.9413 - lr: 0.0010\n",
      "Epoch 45/100\n",
      "20/20 [==============================] - ETA: 0s - loss: 0.3369 - accuracy: 0.9344\n",
      "Epoch 45: val_loss did not improve from 0.30459\n",
      "20/20 [==============================] - 18s 936ms/step - loss: 0.3369 - accuracy: 0.9344 - val_loss: 0.3549 - val_accuracy: 0.9235 - lr: 0.0010\n",
      "Epoch 46/100\n",
      "20/20 [==============================] - ETA: 0s - loss: 0.3555 - accuracy: 0.9062\n",
      "Epoch 46: val_loss did not improve from 0.30459\n",
      "20/20 [==============================] - 18s 944ms/step - loss: 0.3555 - accuracy: 0.9062 - val_loss: 0.3486 - val_accuracy: 0.9247 - lr: 0.0010\n",
      "Epoch 47/100\n",
      "20/20 [==============================] - ETA: 0s - loss: 0.3155 - accuracy: 0.9326\n",
      "Epoch 47: val_loss did not improve from 0.30459\n",
      "20/20 [==============================] - 18s 930ms/step - loss: 0.3155 - accuracy: 0.9326 - val_loss: 0.3864 - val_accuracy: 0.9082 - lr: 0.0010\n",
      "Epoch 48/100\n",
      "20/20 [==============================] - ETA: 0s - loss: 0.4376 - accuracy: 0.8719\n",
      "Epoch 48: val_loss did not improve from 0.30459\n",
      "20/20 [==============================] - 18s 927ms/step - loss: 0.4376 - accuracy: 0.8719 - val_loss: 0.3470 - val_accuracy: 0.9133 - lr: 0.0010\n",
      "Epoch 49/100\n",
      "20/20 [==============================] - ETA: 0s - loss: 0.3457 - accuracy: 0.9250\n",
      "Epoch 49: val_loss did not improve from 0.30459\n",
      "20/20 [==============================] - 19s 959ms/step - loss: 0.3457 - accuracy: 0.9250 - val_loss: 0.3215 - val_accuracy: 0.9401 - lr: 0.0010\n",
      "Epoch 50/100\n",
      "20/20 [==============================] - ETA: 0s - loss: 0.3673 - accuracy: 0.8969\n",
      "Epoch 50: val_loss did not improve from 0.30459\n",
      "20/20 [==============================] - 18s 935ms/step - loss: 0.3673 - accuracy: 0.8969 - val_loss: 0.3137 - val_accuracy: 0.9311 - lr: 0.0010\n",
      "Epoch 51/100\n",
      "20/20 [==============================] - ETA: 0s - loss: 0.3762 - accuracy: 0.8934\n",
      "Epoch 51: val_loss did not improve from 0.30459\n",
      "20/20 [==============================] - 19s 949ms/step - loss: 0.3762 - accuracy: 0.8934 - val_loss: 0.4085 - val_accuracy: 0.8801 - lr: 0.0010\n",
      "Epoch 52/100\n",
      "20/20 [==============================] - ETA: 0s - loss: 0.3950 - accuracy: 0.9047\n",
      "Epoch 52: val_loss did not improve from 0.30459\n",
      "20/20 [==============================] - 19s 964ms/step - loss: 0.3950 - accuracy: 0.9047 - val_loss: 0.3223 - val_accuracy: 0.9337 - lr: 0.0010\n",
      "Epoch 53/100\n",
      "20/20 [==============================] - ETA: 0s - loss: 0.3734 - accuracy: 0.9000\n",
      "Epoch 53: val_loss did not improve from 0.30459\n",
      "20/20 [==============================] - 19s 952ms/step - loss: 0.3734 - accuracy: 0.9000 - val_loss: 0.3389 - val_accuracy: 0.9298 - lr: 0.0010\n",
      "Epoch 54/100\n",
      "20/20 [==============================] - ETA: 0s - loss: 0.3413 - accuracy: 0.9187Restoring model weights from the end of the best epoch: 44.\n",
      "\n",
      "Epoch 54: val_loss did not improve from 0.30459\n",
      "20/20 [==============================] - 18s 940ms/step - loss: 0.3413 - accuracy: 0.9187 - val_loss: 0.3173 - val_accuracy: 0.9324 - lr: 0.0010\n",
      "Epoch 54: early stopping\n"
     ]
    }
   ],
   "source": [
    "history = model.fit(x= train_generator,\n",
    "                    steps_per_epoch = 20,\n",
    "                    epochs= 100, \n",
    "                    callbacks=[early_stopping, model_checkpoint,reduce_lr],\n",
    "                    validation_data= valid_generator)"
   ]
  },
  {
   "cell_type": "code",
   "execution_count": 43,
   "id": "0cab0b35",
   "metadata": {
    "execution": {
     "iopub.execute_input": "2024-03-30T11:47:53.068284Z",
     "iopub.status.busy": "2024-03-30T11:47:53.067584Z",
     "iopub.status.idle": "2024-03-30T11:48:55.547265Z",
     "shell.execute_reply": "2024-03-30T11:48:55.546342Z"
    },
    "papermill": {
     "duration": 62.610244,
     "end_time": "2024-03-30T11:48:55.549320",
     "exception": false,
     "start_time": "2024-03-30T11:47:52.939076",
     "status": "completed"
    },
    "tags": []
   },
   "outputs": [
    {
     "name": "stdout",
     "output_type": "stream",
     "text": [
      "91/91 [==============================] - 37s 409ms/step - loss: 0.3115 - accuracy: 0.9299\n",
      "25/25 [==============================] - 10s 402ms/step - loss: 0.3066 - accuracy: 0.9401\n",
      "25/25 [==============================] - 14s 542ms/step - loss: 0.3195 - accuracy: 0.9324\n"
     ]
    }
   ],
   "source": [
    "train_score= model.evaluate(train_generator)\n",
    "valid_score= model.evaluate(valid_generator)\n",
    "test_score=  model.evaluate(test_generator)"
   ]
  },
  {
   "cell_type": "code",
   "execution_count": 44,
   "id": "10b4557b",
   "metadata": {
    "execution": {
     "iopub.execute_input": "2024-03-30T11:48:55.813334Z",
     "iopub.status.busy": "2024-03-30T11:48:55.812653Z",
     "iopub.status.idle": "2024-03-30T11:48:55.819082Z",
     "shell.execute_reply": "2024-03-30T11:48:55.818144Z"
    },
    "papermill": {
     "duration": 0.139382,
     "end_time": "2024-03-30T11:48:55.821260",
     "exception": false,
     "start_time": "2024-03-30T11:48:55.681878",
     "status": "completed"
    },
    "tags": []
   },
   "outputs": [
    {
     "name": "stdout",
     "output_type": "stream",
     "text": [
      "Train Loss:  0.31151312589645386\n",
      "Train Accuracy:  0.929896891117096\n",
      "====================\n",
      "\n",
      "Valid Loss:  0.3065538704395294\n",
      "Valid Accuracy:  0.9400510191917419\n",
      "====================\n",
      "\n",
      "Test Loss:  0.31953126192092896\n",
      "Test Accuracy:  0.9323979616165161\n"
     ]
    }
   ],
   "source": [
    "print(\"Train Loss: \", train_score[0])\n",
    "print(\"Train Accuracy: \", train_score[1])\n",
    "print('=' * 20)\n",
    "print( )\n",
    "print(\"Valid Loss: \", valid_score[0])\n",
    "print(\"Valid Accuracy: \", valid_score[1])\n",
    "print('=' * 20)\n",
    "print( )\n",
    "print(\"Test Loss: \", test_score[0])\n",
    "print(\"Test Accuracy: \", test_score[1])"
   ]
  },
  {
   "cell_type": "code",
   "execution_count": 45,
   "id": "20bb46b3",
   "metadata": {
    "execution": {
     "iopub.execute_input": "2024-03-30T11:48:56.086142Z",
     "iopub.status.busy": "2024-03-30T11:48:56.085396Z",
     "iopub.status.idle": "2024-03-30T11:48:56.089555Z",
     "shell.execute_reply": "2024-03-30T11:48:56.088668Z"
    },
    "papermill": {
     "duration": 0.137858,
     "end_time": "2024-03-30T11:48:56.091354",
     "exception": false,
     "start_time": "2024-03-30T11:48:55.953496",
     "status": "completed"
    },
    "tags": []
   },
   "outputs": [],
   "source": [
    "#model.save('/kaggle/working/xception_model')"
   ]
  },
  {
   "cell_type": "code",
   "execution_count": null,
   "id": "e2f93bcf",
   "metadata": {
    "execution": {
     "iopub.execute_input": "2024-03-04T14:34:05.083341Z",
     "iopub.status.busy": "2024-03-04T14:34:05.082994Z",
     "iopub.status.idle": "2024-03-04T14:34:05.090237Z",
     "shell.execute_reply": "2024-03-04T14:34:05.089169Z",
     "shell.execute_reply.started": "2024-03-04T14:34:05.083317Z"
    },
    "papermill": {
     "duration": 0.174654,
     "end_time": "2024-03-30T11:48:56.396878",
     "exception": false,
     "start_time": "2024-03-30T11:48:56.222224",
     "status": "completed"
    },
    "tags": []
   },
   "outputs": [],
   "source": [
    "\n",
    "                    "
   ]
  },
  {
   "cell_type": "code",
   "execution_count": 46,
   "id": "14725970",
   "metadata": {
    "execution": {
     "iopub.execute_input": "2024-03-30T11:48:56.676280Z",
     "iopub.status.busy": "2024-03-30T11:48:56.675572Z",
     "iopub.status.idle": "2024-03-30T11:48:56.682211Z",
     "shell.execute_reply": "2024-03-30T11:48:56.681451Z"
    },
    "papermill": {
     "duration": 0.146142,
     "end_time": "2024-03-30T11:48:56.684108",
     "exception": false,
     "start_time": "2024-03-30T11:48:56.537966",
     "status": "completed"
    },
    "tags": []
   },
   "outputs": [
    {
     "data": {
      "text/plain": [
       "'\\nimport zipfile\\n\\nbase_dir = \\'/kaggle/working\\'\\n\\ndef zipdir(path, ziph):\\n    for root, dirs, files in os.walk(path):\\n        for file in files:\\n            ziph.write(os.path.join(root, file), os.path.relpath(os.path.join(root, file), os.path.join(path, \\'..\\')))\\n\\nwith zipfile.ZipFile(os.path.join(base_dir, \\'augmented_images.zip\\'), \\'w\\', zipfile.ZIP_DEFLATED) as zipf:\\n    zipdir(\\'augmented_images/\\', zipf)\\n\\nfor pkl_file in [\\'augmented_balanced_dataset.pkl\\', \\'initial_dataset.pkl\\']:\\n    with zipfile.ZipFile(os.path.join(base_dir, f\"{pkl_file}.zip\"), \\'w\\', zipfile.ZIP_DEFLATED) as zipf:\\n        zipf.write(os.path.join(base_dir, pkl_file), pkl_file)\\n\\nprint(\\'Created separate ZIP files for each item.\\')\\n'"
      ]
     },
     "execution_count": 46,
     "metadata": {},
     "output_type": "execute_result"
    }
   ],
   "source": [
    "'''\n",
    "import zipfile\n",
    "\n",
    "base_dir = '/kaggle/working'\n",
    "\n",
    "def zipdir(path, ziph):\n",
    "    for root, dirs, files in os.walk(path):\n",
    "        for file in files:\n",
    "            ziph.write(os.path.join(root, file), os.path.relpath(os.path.join(root, file), os.path.join(path, '..')))\n",
    "\n",
    "with zipfile.ZipFile(os.path.join(base_dir, 'augmented_images.zip'), 'w', zipfile.ZIP_DEFLATED) as zipf:\n",
    "    zipdir('augmented_images/', zipf)\n",
    "\n",
    "for pkl_file in ['augmented_balanced_dataset.pkl', 'initial_dataset.pkl']:\n",
    "    with zipfile.ZipFile(os.path.join(base_dir, f\"{pkl_file}.zip\"), 'w', zipfile.ZIP_DEFLATED) as zipf:\n",
    "        zipf.write(os.path.join(base_dir, pkl_file), pkl_file)\n",
    "\n",
    "print('Created separate ZIP files for each item.')\n",
    "'''\n"
   ]
  },
  {
   "cell_type": "code",
   "execution_count": null,
   "id": "d8c5ced8",
   "metadata": {
    "execution": {
     "iopub.execute_input": "2024-02-25T12:09:12.113625Z",
     "iopub.status.busy": "2024-02-25T12:09:12.113276Z",
     "iopub.status.idle": "2024-02-25T12:09:12.123883Z",
     "shell.execute_reply": "2024-02-25T12:09:12.122997Z",
     "shell.execute_reply.started": "2024-02-25T12:09:12.113598Z"
    },
    "papermill": {
     "duration": 0.130384,
     "end_time": "2024-03-30T11:48:56.944131",
     "exception": false,
     "start_time": "2024-03-30T11:48:56.813747",
     "status": "completed"
    },
    "tags": []
   },
   "outputs": [],
   "source": []
  },
  {
   "cell_type": "code",
   "execution_count": null,
   "id": "4d2a6528",
   "metadata": {
    "execution": {
     "iopub.execute_input": "2024-02-25T12:09:17.797084Z",
     "iopub.status.busy": "2024-02-25T12:09:17.795983Z",
     "iopub.status.idle": "2024-02-25T12:09:17.807705Z",
     "shell.execute_reply": "2024-02-25T12:09:17.806843Z",
     "shell.execute_reply.started": "2024-02-25T12:09:17.797043Z"
    },
    "papermill": {
     "duration": 0.130524,
     "end_time": "2024-03-30T11:48:57.206860",
     "exception": false,
     "start_time": "2024-03-30T11:48:57.076336",
     "status": "completed"
    },
    "tags": []
   },
   "outputs": [],
   "source": []
  },
  {
   "cell_type": "code",
   "execution_count": null,
   "id": "a3753e11",
   "metadata": {
    "execution": {
     "iopub.execute_input": "2024-02-25T12:10:03.433058Z",
     "iopub.status.busy": "2024-02-25T12:10:03.432660Z",
     "iopub.status.idle": "2024-02-25T12:10:03.438195Z",
     "shell.execute_reply": "2024-02-25T12:10:03.437145Z",
     "shell.execute_reply.started": "2024-02-25T12:10:03.433029Z"
    },
    "papermill": {
     "duration": 0.130006,
     "end_time": "2024-03-30T11:48:57.466587",
     "exception": false,
     "start_time": "2024-03-30T11:48:57.336581",
     "status": "completed"
    },
    "tags": []
   },
   "outputs": [],
   "source": []
  },
  {
   "cell_type": "code",
   "execution_count": null,
   "id": "16867882",
   "metadata": {
    "papermill": {
     "duration": 0.13078,
     "end_time": "2024-03-30T11:48:57.729795",
     "exception": false,
     "start_time": "2024-03-30T11:48:57.599015",
     "status": "completed"
    },
    "tags": []
   },
   "outputs": [],
   "source": []
  },
  {
   "cell_type": "code",
   "execution_count": null,
   "id": "ea37abd0",
   "metadata": {
    "papermill": {
     "duration": 0.154122,
     "end_time": "2024-03-30T11:48:58.013920",
     "exception": false,
     "start_time": "2024-03-30T11:48:57.859798",
     "status": "completed"
    },
    "tags": []
   },
   "outputs": [],
   "source": []
  },
  {
   "cell_type": "code",
   "execution_count": null,
   "id": "4cd17096",
   "metadata": {
    "papermill": {
     "duration": 0.133052,
     "end_time": "2024-03-30T11:48:58.286060",
     "exception": false,
     "start_time": "2024-03-30T11:48:58.153008",
     "status": "completed"
    },
    "tags": []
   },
   "outputs": [],
   "source": []
  },
  {
   "cell_type": "code",
   "execution_count": null,
   "id": "0e1be28e",
   "metadata": {
    "papermill": {
     "duration": 0.132469,
     "end_time": "2024-03-30T11:48:58.551323",
     "exception": false,
     "start_time": "2024-03-30T11:48:58.418854",
     "status": "completed"
    },
    "tags": []
   },
   "outputs": [],
   "source": []
  },
  {
   "cell_type": "code",
   "execution_count": null,
   "id": "f257fd72",
   "metadata": {
    "papermill": {
     "duration": 0.129815,
     "end_time": "2024-03-30T11:48:58.812608",
     "exception": false,
     "start_time": "2024-03-30T11:48:58.682793",
     "status": "completed"
    },
    "tags": []
   },
   "outputs": [],
   "source": []
  }
 ],
 "metadata": {
  "kaggle": {
   "accelerator": "gpu",
   "dataSources": [
    {
     "datasetId": 2892866,
     "sourceId": 4987732,
     "sourceType": "datasetVersion"
    },
    {
     "datasetId": 4614494,
     "sourceId": 7865536,
     "sourceType": "datasetVersion"
    },
    {
     "datasetId": 4671187,
     "sourceId": 7944546,
     "sourceType": "datasetVersion"
    }
   ],
   "dockerImageVersionId": 30648,
   "isGpuEnabled": true,
   "isInternetEnabled": true,
   "language": "python",
   "sourceType": "notebook"
  },
  "kernelspec": {
   "display_name": "Python 3",
   "language": "python",
   "name": "python3"
  },
  "language_info": {
   "codemirror_mode": {
    "name": "ipython",
    "version": 3
   },
   "file_extension": ".py",
   "mimetype": "text/x-python",
   "name": "python",
   "nbconvert_exporter": "python",
   "pygments_lexer": "ipython3",
   "version": "3.10.13"
  },
  "papermill": {
   "default_parameters": {},
   "duration": 1174.603152,
   "end_time": "2024-03-30T11:49:02.011596",
   "environment_variables": {},
   "exception": null,
   "input_path": "__notebook__.ipynb",
   "output_path": "__notebook__.ipynb",
   "parameters": {},
   "start_time": "2024-03-30T11:29:27.408444",
   "version": "2.5.0"
  }
 },
 "nbformat": 4,
 "nbformat_minor": 5
}
